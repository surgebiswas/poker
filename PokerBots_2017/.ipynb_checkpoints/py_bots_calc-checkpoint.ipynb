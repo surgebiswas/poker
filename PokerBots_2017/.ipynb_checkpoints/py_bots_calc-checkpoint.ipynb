{
 "cells": [
  {
   "cell_type": "code",
   "execution_count": 16,
   "metadata": {
    "collapsed": false
   },
   "outputs": [
    {
     "name": "stdout",
     "output_type": "stream",
     "text": [
      "100 iterations --- 0.0171830654144 seconds ---\n",
      "win perc. from discarding first card 0.49\n",
      "win perc. from discarding second card 0.38\n",
      "win perc. from not drawing 0.26\n",
      "  [ 6 ♦ ] , [ K ♣ ]  \n",
      "  [ 3 ❤ ] , [ 7 ♣ ] , [ Q ♦ ] , [ 9 ♦ ]  \n"
     ]
    }
   ],
   "source": [
    "import deuces as de\n",
    "import copy as cp\n",
    "from deuces import Card\n",
    "from deuces import Evaluator\n",
    "from random import sample\n",
    "import ctypes\n",
    "import ctypes.util\n",
    "import sys\n",
    "from subprocess import call\n",
    "import time\n",
    "import numpy as np\n",
    "import pickle\n",
    "import random\n",
    "\n",
    "\n",
    "evaluator = Evaluator()\n",
    "deck_fresh = de.Deck()\n",
    "\n",
    "player1_hand = deck_fresh.draw(2)\n",
    "board = deck_fresh.draw(4)\n",
    "iters = 100\n",
    "win_not_discard = np.zeros([iters,1])\n",
    "win_discard_one = np.zeros([iters,1])\n",
    "win_discard_zero = np.zeros([iters,1])\n",
    "\n",
    "np.random.seed(1)\n",
    "start_time = time.time()\n",
    "\n",
    "for i in range(0,iters):\n",
    "    cards_in_play = cp.copy(board)\n",
    "    cards_in_play.extend(player1_hand)\n",
    "    sim_board = cp.copy(board)\n",
    "    draw_deck = list(set(deck_fresh.cards)-set(cards_in_play))\n",
    "    rest_of_cards_ix = sample(range(0, len(draw_deck)-1), 5-len(sim_board)+3 )\n",
    "    sim_board.extend([draw_deck[j] for j in rest_of_cards_ix[3:]])\n",
    "    villan_hand = [draw_deck[j] for j in rest_of_cards_ix[1:3]]\n",
    "    \n",
    "    hand_new_one = [draw_deck[rest_of_cards_ix[0]],player1_hand[1]]\n",
    "    hand_new_zero = [player1_hand[0],draw_deck[rest_of_cards_ix[0]]]\n",
    "    v_rank = evaluator.evaluate(sim_board,villan_hand)\n",
    "    win_discard_zero[i] = evaluator.evaluate(sim_board, hand_new_one) < v_rank # win when discarding the first card\n",
    "    win_discard_one[i] =1# evaluator.evaluate(sim_board, hand_new_zero) < v_rank # win when discarding the second card\n",
    "    win_not_discard[i] =1# evaluator.evaluate(sim_board,player1_hand) < v_rank\n",
    "    \n",
    "print( \"%s iterations --- %s seconds ---\" % (iters , (time.time() - start_time)))\n",
    "print ( \"win perc. from discarding first card %s\" % np.mean(win_discard_zero))\n",
    "print ( \"win perc. from discarding second card %s\" % np.mean(win_discard_one))\n",
    "print (\"win perc. from not drawing %s\" % np.mean(win_not_discard))\n",
    "Card.print_pretty_cards(player1_hand) \n",
    "\n",
    "Card.print_pretty_cards(board)\n"
   ]
  },
  {
   "cell_type": "code",
   "execution_count": 2,
   "metadata": {
    "collapsed": true
   },
   "outputs": [],
   "source": [
    "deck_fresh = de.Deck()\n",
    "\n",
    "player1_hand = deck_fresh.draw(2)\n",
    "board = deck_fresh.draw(4)"
   ]
  },
  {
   "cell_type": "code",
   "execution_count": 9,
   "metadata": {
    "collapsed": false
   },
   "outputs": [],
   "source": [
    "board = ['Qh', 'Kh']\n",
    "cards_in_play = [Card.new(j) for j in board]"
   ]
  },
  {
   "cell_type": "code",
   "execution_count": 13,
   "metadata": {
    "collapsed": false
   },
   "outputs": [
    {
     "data": {
      "text/plain": [
       "[134224677, 8406803]"
      ]
     },
     "execution_count": 13,
     "metadata": {},
     "output_type": "execute_result"
    }
   ],
   "source": [
    "hand_new_one"
   ]
  },
  {
   "cell_type": "code",
   "execution_count": 11,
   "metadata": {
    "collapsed": false
   },
   "outputs": [
    {
     "name": "stdout",
     "output_type": "stream",
     "text": [
      "134228773\n"
     ]
    }
   ],
   "source": [
    "print(Card.new('Kh'))"
   ]
  },
  {
   "cell_type": "code",
   "execution_count": null,
   "metadata": {
    "collapsed": true
   },
   "outputs": [],
   "source": []
  }
 ],
 "metadata": {
  "kernelspec": {
   "display_name": "Python 2",
   "language": "python",
   "name": "python2"
  },
  "language_info": {
   "codemirror_mode": {
    "name": "ipython",
    "version": 2
   },
   "file_extension": ".py",
   "mimetype": "text/x-python",
   "name": "python",
   "nbconvert_exporter": "python",
   "pygments_lexer": "ipython2",
   "version": "2.7.13"
  }
 },
 "nbformat": 4,
 "nbformat_minor": 1
}
