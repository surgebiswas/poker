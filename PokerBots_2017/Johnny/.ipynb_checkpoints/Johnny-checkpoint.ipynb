{
 "cells": [
  {
   "cell_type": "code",
   "execution_count": 1,
   "metadata": {
    "collapsed": true
   },
   "outputs": [],
   "source": [
    "from datetime import datetime"
   ]
  },
  {
   "cell_type": "code",
   "execution_count": 1,
   "metadata": {
    "collapsed": false
   },
   "outputs": [
    {
     "name": "stderr",
     "output_type": "stream",
     "text": [
      "Using Theano backend.\n"
     ]
    }
   ],
   "source": [
    "import argparse\n",
    "import socket\n",
    "import sys\n",
    "import numpy as np\n",
    "import random as random\n",
    "from random import sample\n",
    "import copy as cp\n",
    "from HandEvaluator import HandEvaluator\n",
    "from Brains import RationalBrain\n",
    "from Brains import AdaptiveBrain\n",
    "\n",
    "\n",
    "#sys.path.add(\"/Users/sbiswas/GitHub/poker/PokerBots_2017/Johnny\")\n",
    "np.set_printoptions(linewidth=300)\n",
    "\n",
    "\n",
    "\n",
    "\n",
    "# ----------- BRAIN ----------- #\n",
    "\n",
    "        \n",
    "# ----------- BRAIN ----------- #\n",
    "\n",
    "\n",
    "\n",
    "\n",
    "\n",
    "class Johnny:\n",
    "    \"\"\"\n",
    "    self.bot_name = bot_name in config file. Corresponds to PLAYER_X_NAME field.\n",
    "    \n",
    "    self.hand = a dictionary storing properties of the current hand. Has the following keys.\n",
    "        hand_id = int. ID of hand.\n",
    "        button = boolean. Are we the dealer?\n",
    "        hole1 = hole card 1\n",
    "        hole2 = hole card 2\n",
    "        board = current known board cards \n",
    "        action_history = a list of the last actions. action_history[i] = another list that describes\n",
    "                         the previous actions up until action point i.\n",
    "        result = int. Chips won (can be a negative integer if we lost chips)\n",
    "    \n",
    "    self.state = A dictionary representing the our state in the current match. Has the following keys.\n",
    "        my_bank = our current bankroll \n",
    "        their_bank = their current bankroll\n",
    "        time_bank = cumulative time remaining in the match\n",
    "    \"\"\"\n",
    "    \n",
    "    \n",
    "    def __init__(self, bot_name=\"P1\", brain=AdaptiveBrain):\n",
    "        self.bot_name = bot_name\n",
    "        self.brain = brain()\n",
    "        self.state = {}\n",
    "        self.reset_hand()\n",
    "        \n",
    "        \n",
    "    def reset_hand(self):\n",
    "        self.hand = {}\n",
    "        self.hand['action_history'] = []\n",
    "        self.hand['pot_size'] = []\n",
    "        self.temporal_feature_matrix = []\n",
    "        self.possible_actions = []\n",
    "        \n",
    "    \n",
    "    \n",
    "    \n",
    "        \n",
    "    ### ------- PARSING ------- ### \n",
    "    def parse_data(self, data):\n",
    "        splits = data.split()\n",
    "        packet_type = splits[0]\n",
    "        \n",
    "        if packet_type == \"NEWHAND\":\n",
    "            self.parse_new_hand(splits)\n",
    "        elif packet_type == \"GETACTION\":\n",
    "            self.parse_get_action(splits)\n",
    "        elif packet_type == \"HANDOVER\":\n",
    "            self.parse_hand_over(splits)\n",
    "            \n",
    "    def parse_win_result(self, wr):\n",
    "        splits = wr.split(\":\")\n",
    "        amt = int(splits[1])\n",
    "        winner = splits[2]\n",
    "        \n",
    "        if winner == self.bot_name:\n",
    "            return amt/2\n",
    "        else:\n",
    "            return -amt/2\n",
    "        \n",
    "            \n",
    "    def parse_hand_over(self, data_splits):\n",
    "        # HANDOVER Stack1 Stack2 numBoardCards [boardCards] numLastActions [lastActions] timeBank\n",
    "        # Can ignore Stack1 and Stack2 because we'll get it on the next NEWHAND packet.\n",
    "        num_board_cards = int(data_splits[3])\n",
    "        counter = 4\n",
    "        self.hand['board'] = data_splits[counter:counter+num_board_cards]\n",
    "        counter += num_board_cards\n",
    "        \n",
    "        num_last_actions = int(data_splits[counter])\n",
    "        counter += 1\n",
    "        self.hand['action_history'].append(data_splits[counter:counter+num_last_actions-1])\n",
    "        self.hand['winnings'] = self.parse_win_result(data_splits[counter+num_last_actions-1])\n",
    "        counter += num_last_actions\n",
    "        \n",
    "        self.state['time_bank'] = float(data_splits[-1])\n",
    "        \n",
    "    def check_for_hand_update_and_update_hand(self, last_actions):\n",
    "        for i in range(len(last_actions)):\n",
    "            splits = last_actions[i].split(\":\")\n",
    "            if len(splits) == 4 and splits[0] == \"DISCARD\":\n",
    "                # DISCARD:(oldcard):(newcard):PLAYER\n",
    "                if self.hand['hole1'] == splits[1]:\n",
    "                    self.hand['hole1'] = splits[2]\n",
    "                else:\n",
    "                    self.hand['hole2'] = splits[2]\n",
    "                print(\"Updated hand ... \")\n",
    "                print([self.hand['hole1'], self.hand['hole2']])    \n",
    "                \n",
    "                    \n",
    "                    \n",
    "    def parse_get_action(self, data_splits):\n",
    "        # GETACTION potSize numBoardCards [boardCards] numLastActions [lastActions] numLegalActions [legalActions] timebank\n",
    "        self.hand['pot_size'].append(int(data_splits[1]))\n",
    "        \n",
    "        num_board_cards = int(data_splits[2])\n",
    "        counter = 3\n",
    "        self.hand['board'] = data_splits[counter:counter+num_board_cards]\n",
    "        counter += num_board_cards\n",
    "        \n",
    "        num_last_actions = int(data_splits[counter])\n",
    "        counter += 1\n",
    "        self.check_for_hand_update_and_update_hand(data_splits[counter:counter+num_last_actions]) # update hand if discard was made.\n",
    "        self.hand['action_history'].append(data_splits[counter:counter+num_last_actions])\n",
    "        counter += num_last_actions\n",
    "        \n",
    "        self.hand['winnings'] = 0 # if we're in a get action packet, then we haven't won anything yet.\n",
    "        \n",
    "        num_legal_actions = int(data_splits[counter])\n",
    "        counter += 1\n",
    "        self.possible_actions = data_splits[counter:counter+num_legal_actions]\n",
    "        counter += num_legal_actions\n",
    "        \n",
    "        self.state['time_bank'] = float(data_splits[-1])\n",
    "        \n",
    "\n",
    "    def parse_new_hand(self, data_splits):\n",
    "        # NEWHAND handId button holeCard1 holeCard2 myBank otherBank timeBank\n",
    "        self.reset_hand()\n",
    "        self.hand['hand_id'] = int(data_splits[1])\n",
    "        self.hand['button'] = data_splits[2]\n",
    "        self.hand['hole1'] = data_splits[3]\n",
    "        self.hand['hole2'] = data_splits[4]\n",
    "        \n",
    "        self.state['my_bank'] = int(data_splits[5])\n",
    "        self.state['their_bank'] = int(data_splits[6])\n",
    "        self.state['time_bank'] = float(data_splits[7])\n",
    "    ### ----------------------- ### \n",
    "      \n",
    "    \n",
    "    \n",
    "    \n",
    "    \n",
    "    \n",
    "    \n",
    "    \n",
    "    \n",
    "    \n",
    "    ### ------- FEATURE GENERATION ------- ###\n",
    "    def update_temporal_feature_matrix(self):\n",
    "        # Columns represent time steps in a hand.\n",
    "        # Rows are as follows:\n",
    "        # 0 - hero action\n",
    "        # 1 - villain action\n",
    "        # 2 - street\n",
    "        # 3 - hero discard?\n",
    "        # 4 - villain discard?\n",
    "        al = [item for sublist in self.hand['action_history'] for item in sublist] # linearize action history list\n",
    "        \n",
    "        if len(al) > 0:\n",
    "            if len(self.temporal_feature_matrix) > 0: # check if it's started to fill out.\n",
    "                start_from_idx = self.temporal_feature_matrix.shape[1]\n",
    "            else:\n",
    "                self.temporal_feature_matrix = self.build_temporal_feature_vector(al[0])\n",
    "                start_from_idx = 1\n",
    "\n",
    "            for i in range(start_from_idx, len(al)):\n",
    "                self.temporal_feature_matrix = np.hstack((self.temporal_feature_matrix, \n",
    "                                                          self.build_temporal_feature_vector(al[i])))\n",
    "            \n",
    "            \n",
    "   \n",
    "    \n",
    "    def build_temporal_feature_vector(self, performed_action):\n",
    "        # Performed actions to expect.\n",
    "        # BET:amount[:actor]\n",
    "        # CALL[:actor]\n",
    "        # CHECK[:actor]\n",
    "        # DEAL:STREET\n",
    "        # FOLD[:actor]\n",
    "        # POST:amount:actor\n",
    "        # DISCARD[:actor]\n",
    "        # RAISE:amount[:actor]\n",
    "        # REFUND:amount:actor\n",
    "        # SHOW:card1:card2:actor\n",
    "        # TIE:amount:actor\n",
    "        # WIN:amount:actor\n",
    "        \n",
    "        NFEATURES = 5\n",
    "        STACKSIZE = 200.0\n",
    "        hero_idx = 0\n",
    "        villain_idx = 1\n",
    "        street_idx = 2\n",
    "        hero_discard_idx = 3\n",
    "        villain_discard_idx = 4\n",
    "        \n",
    "        street = self.get_street()\n",
    "        \n",
    "            \n",
    "              \n",
    "        splits = performed_action.split(\":\")\n",
    "        fv = np.zeros((NFEATURES,1))\n",
    "        if splits[0] == \"BET\":\n",
    "            actor_idx = self.get_actor_idx(splits[-1])  \n",
    "            amount = float(splits[1]) \n",
    "            fv[actor_idx] = amount/STACKSIZE + np.max(self.temporal_feature_matrix[actor_idx])\n",
    "            fv[1-actor_idx] = self.temporal_feature_matrix[1-actor_idx,-1]\n",
    "            fv[street_idx] = street                    \n",
    "        elif splits[0] == \"CALL\":\n",
    "            actor_idx = self.get_actor_idx(splits[-1])    \n",
    "            player_to_call = 1 - actor_idx\n",
    "            call_amt = np.max(self.temporal_feature_matrix[player_to_call])\n",
    "            fv[actor_idx] = call_amt\n",
    "            fv[1-actor_idx] = self.temporal_feature_matrix[1-actor_idx,-1]\n",
    "            fv[street_idx] = street\n",
    "        elif splits[0] == \"CHECK\":\n",
    "            actor_idx = self.get_actor_idx(splits[-1])   \n",
    "            fv[actor_idx] = self.temporal_feature_matrix[actor_idx,-1]\n",
    "            fv[1-actor_idx] = self.temporal_feature_matrix[1-actor_idx,-1]\n",
    "            fv[street_idx] = street\n",
    "        elif splits[0] == \"DEAL\":\n",
    "            if splits[1] == \"FLOP\":\n",
    "                street = 1\n",
    "            elif splits[1] == \"TURN\":\n",
    "                street = 2\n",
    "            elif splits[1] == \"RIVER\":\n",
    "                street = 3\n",
    "            fv[street_idx] = street\n",
    "            fv[0] = self.temporal_feature_matrix[0,-1]\n",
    "            fv[1] = self.temporal_feature_matrix[1,-1]\n",
    "        elif splits[0] == \"FOLD\":\n",
    "            # Hand is now over. nothing to do here.\n",
    "            pass\n",
    "        elif splits[0] == \"POST\":\n",
    "            actor_idx = self.get_actor_idx(splits[-1])  \n",
    "            amount = float(splits[1])/STACKSIZE \n",
    "            fv[actor_idx] = amount\n",
    "            fv[street_idx] = street\n",
    "            \n",
    "            if len(self.temporal_feature_matrix) > 0:\n",
    "                fv[1-actor_idx] = self.temporal_feature_matrix[1-actor_idx,-1]\n",
    "        elif splits[0] == \"DISCARD\":\n",
    "            actor_idx = self.get_actor_idx(splits[-1])  \n",
    "            fv[actor_idx+3] = 1\n",
    "            fv[street_idx] = street\n",
    "            fv[actor_idx] = self.temporal_feature_matrix[actor_idx,-1]\n",
    "            fv[1-actor_idx] = self.temporal_feature_matrix[1-actor_idx,-1]\n",
    "        elif splits[0] == \"RAISE\":\n",
    "            # Raise specifies the amount raised to, not the amount raised.\n",
    "            # This creates some complications with respect to maintaining the \n",
    "            # temporal feature matrix.\n",
    "            # Basically, we need to add the raise value to the latest pot value from\n",
    "            # the previous street, since multiple raises and re-raises specify \n",
    "            # only the amount raised to.\n",
    "            actor_idx = self.get_actor_idx(splits[-1])  \n",
    "            max_of_prev_street = self.get_max_of_prev_street(actor_idx)\n",
    "            \n",
    "            amount = float(splits[1])/STACKSIZE + max_of_prev_street\n",
    "            fv[actor_idx] = amount\n",
    "            fv[1-actor_idx] = self.temporal_feature_matrix[1-actor_idx,-1]\n",
    "            fv[street_idx] = street  \n",
    "        elif splits[0] == \"REFUND\":\n",
    "            # Hand is now over. nothing to do here.\n",
    "            pass\n",
    "        elif splits[0] == \"SHOW\":\n",
    "            # Hand is now over. nothing to do here.\n",
    "            pass\n",
    "        elif splits[0] == \"TIE\":\n",
    "            # Hand is now over. nothing to do here.\n",
    "            pass\n",
    "        elif splits[0] == \"WIN\":\n",
    "            # Hand is now over. nothing to do here.\n",
    "            pass\n",
    "\n",
    "        # Difference betting results?\n",
    "#         if True and len(self.temporal_feature_matrix) > 0:\n",
    "#             fv[0] -= self.temporal_feature_matrix[0,-1]\n",
    "#             fv[1] -= self.temporal_feature_matrix[1,-1]\n",
    "            \n",
    "        return fv\n",
    "    \n",
    "    def get_street(self):\n",
    "        if len(self.temporal_feature_matrix) == 0: # if has not been initialized\n",
    "            street = 0 # preflop\n",
    "        else:\n",
    "            street = np.max(self.temporal_feature_matrix[2])\n",
    "        return street\n",
    "     \n",
    "    def get_max_of_prev_street(self, actor_idx):\n",
    "        street = self.get_street() \n",
    "        if street == 0:\n",
    "            max_of_prev_street = 0\n",
    "        else:\n",
    "            mask = self.temporal_feature_matrix[2] == street - 1\n",
    "            max_of_prev_street = np.max(self.temporal_feature_matrix[actor_idx, mask])    \n",
    "        return max_of_prev_street\n",
    "    \n",
    "    def get_actor_idx(self, actor):\n",
    "        if actor == self.bot_name:\n",
    "            actor_idx = 0\n",
    "        else:\n",
    "            actor_idx = 1\n",
    "        return actor_idx\n",
    "    \n",
    "    def check_synchrony_to_brain(self):\n",
    "        if len(self.brain.new_state) > 0:\n",
    "            ns = self.brain.new_state[0]\n",
    "            print(ns)\n",
    "            print(self.temporal_feature_matrix[:ns.shape[0]])\n",
    "            \n",
    "            states_same = np.array_equal(ns, self.temporal_feature_matrix[:ns.shape[0]])\n",
    "            assert()\n",
    "        \n",
    "        \n",
    "        \n",
    "    \n",
    "\n",
    "    ### ------------------------------- ###\n",
    "    \n",
    "    \n",
    "    def run(self, input_socket):\n",
    "        # Get a file-object for reading packets from the socket.\n",
    "        # Using this ensures that you get exactly one packet per read.\n",
    "        f_in = input_socket.makefile()\n",
    "        while True:\n",
    "            # Block until the engine sends us a packet.\n",
    "            data = f_in.readline().strip()\n",
    "            # If data is None, connection has closed.\n",
    "            if not data:\n",
    "                print \"Gameover, engine disconnected.\"\n",
    "                break\n",
    "\n",
    "            # Here is where you should implement code to parse the packets from\n",
    "            # the engine and act on it. We are just printing it instead.\n",
    "            print(\"PACKET -> \", data)\n",
    "            self.parse_data(data)\n",
    "            self.update_temporal_feature_matrix()\n",
    "            #self.check_synchrony_to_brain()\n",
    "            \n",
    "            \n",
    "            # First before taking our next action, let's learn from the move we \n",
    "            # made at the last decision point.\n",
    "            self.brain.learn_from_last_action(self)\n",
    "            \n",
    "            # When appropriate, reply to the engine with a legal action.\n",
    "            # The engine will ignore all spurious responses.\n",
    "            # The engine will also check/fold for you if you return an\n",
    "            # illegal action.\n",
    "            # When sending responses, terminate each response with a newline\n",
    "            # character (\\n) or your bot will hang!\n",
    "            word = data.split()[0]\n",
    "            if word == \"GETACTION\":\n",
    "                action = self.brain.make_decision(self)\n",
    "                s.send(action + \"\\n\")\n",
    "            elif word == \"REQUESTKEYVALUES\":\n",
    "                # At the end, the engine will allow your bot save key/value pairs.\n",
    "                # Send FINISH to indicate you're done.\n",
    "                s.send(\"FINISH\\n\")\n",
    "        # Clean up the socket.\n",
    "        s.close()"
   ]
  },
  {
   "cell_type": "code",
   "execution_count": 2,
   "metadata": {
    "collapsed": false
   },
   "outputs": [],
   "source": [
    "# data = []\n",
    "# data.append(\"NEWHAND 98 false 9c 4s -111 111 9.931115\")\n",
    "# data.append(\"GETACTION 4 0 3 POST:1:P2 POST:2:P1 CALL:P2 2 CHECK RAISE:4:200 9.931115124999993\")\n",
    "# data.append(\"GETACTION 4 3 4d 5c Js 2 CHECK:P1 DEAL:FLOP 3 CHECK DISCARD:9c DISCARD:4s 9.930735672999992\")\n",
    "# data.append(\"GETACTION 4 3 4d 5c Js 2 CHECK:P1 CHECK:P2 2 CHECK BET:2:198 9.930290227999992\")\n",
    "# data.append(\"GETACTION 4 4 4d 5c Js Jh 3 CHECK:P1 CHECK:P2 DEAL:TURN 3 CHECK DISCARD:9c DISCARD:4s 9.929636328999992\")\n",
    "# data.append(\"GETACTION 4 4 4d 5c Js Jh 2 CHECK:P1 DISCARD:P2 2 CHECK BET:2:198 9.928944276999992\")\n",
    "# data.append(\"GETACTION 83 4 4d 5c Js Jh 2 CHECK:P1 BET:79:P2 3 FOLD CALL RAISE:158:198 9.928641209999991\")\n",
    "# data.append(\"HANDOVER -113 113 4 4d 5c Js Jh 3 FOLD:P1 REFUND:79:P2 WIN:4:P2 9.928236565999992\")\n",
    "\n",
    "\n",
    "# data = []\n",
    "# data.append(\"NEWHAND 80 false Kd Qh -77 77 9.942149\")\n",
    "# data.append(\"GETACTION 4 0 3 POST:1:P2 POST:2:P1 CALL:P2 2 CHECK RAISE:4:200 9.942148733999993\")\n",
    "# data.append(\"GETACTION 4 3 9d 4h Ts 2 CHECK:P1 DEAL:FLOP 3 CHECK DISCARD:Kd DISCARD:Qh 9.941793586999992\")\n",
    "# data.append(\"GETACTION 4 3 9d 4h Ts 2 CHECK:P1 CHECK:P2 2 CHECK BET:2:198 9.941348511999992\")\n",
    "# data.append(\"GETACTION 56 3 9d 4h Ts 2 CHECK:P1 BET:52:P2 3 FOLD CALL RAISE:104:198 9.940922597999993\")\n",
    "# data.append(\"HANDOVER -79 79 3 9d 4h Ts 3 FOLD:P1 REFUND:52:P2 WIN:4:P2 9.940476787999993\")\n",
    "\n",
    "\n",
    "# #data = []\n",
    "# data.append(\"NEWHAND 91 true 3c Ah 410 -410 9.904622\")\n",
    "# data.append(\"GETACTION 3 0 2 POST:1:P1 POST:2:P2 3 CALL FOLD RAISE:4:200 9.904621749000007\")\n",
    "# data.append(\"GETACTION 400 3 9d 5h 9s 4 RAISE:200:P1 CALL:P2 DEAL:FLOP CHECK:P2 3 CHECK DISCARD:3c DISCARD:Ah 9.904199743000007\")\n",
    "# data.append(\"GETACTION 400 4 9d 5h 9s Tc 3 CHECK:P1 DEAL:TURN DISCARD:P2 3 CHECK DISCARD:3c DISCARD:Ah 9.902036590000007\")\n",
    "# data.append(\"HANDOVER 210 -210 5 9d 5h 9s Tc 2s 5 CHECK:P1 DEAL:RIVER SHOW:3c:Ah:P1 SHOW:Ad:5d:P2 WIN:400:P2 9.901503757000008\")\n",
    "\n",
    "\n",
    "# # data = []\n",
    "# data.append(\"NEWHAND 34 false Ks 2d 7 -7 9.968365\")\n",
    "# #data.append(\"NEWHAND 34 false 9d 4h 7 -7 9.968365\")\n",
    "# data.append(\"GETACTION 4 0 3 POST:1:P2 POST:2:P1 CALL:P2 2 CHECK RAISE:4:200 9.968364926000001\")\n",
    "# data.append(\"GETACTION 4 3 5s Kd Qc 2 CHECK:P1 DEAL:FLOP 3 CHECK DISCARD:9d DISCARD:4h 9.968108437000001\")\n",
    "\n",
    "\n",
    "# #data.append(\"GETACTION 4 3 5s Kd Qc 2 CHECK:P1 DISCARD:P2 2 CHECK BET:2:198 9.967825413000002\")\n",
    "# data.append(\"GETACTION 4 3 5s Kd Qc 2 DISCARD:2d:Qh:P1 DISCARD:P2 2 CHECK BET:2:198 9.967825413000002\")\n",
    "\n",
    "\n",
    "# data.append(\"GETACTION 4 4 5s Kd Qc Ah 3 CHECK:P1 CHECK:P2 DEAL:TURN 3 CHECK DISCARD:9d DISCARD:4h 9.967515728000002\")\n",
    "# data.append(\"GETACTION 4 4 5s Kd Qc Ah 2 CHECK:P1 DISCARD:P2 2 CHECK BET:2:198 9.967211695000001\")\n",
    "# data.append(\"GETACTION 4 5 5s Kd Qc Ah Tc 3 CHECK:P1 CHECK:P2 DEAL:RIVER 2 CHECK BET:2:198 9.966950326000001\")\n",
    "# data.append(\"HANDOVER 5 -5 5 5s Kd Qc Ah Tc 5 CHECK:P1 CHECK:P2 SHOW:Qh:9c:P2 SHOW:9d:4h:P1 WIN:4:P2 9.966612284000002\")\n",
    "                                        \n",
    "\n",
    "#data = \"GETACTION 4 3 5d Kd 6h 2 CHECK:P1 DEAL:FLOP 3 CHECK DISCARD:Jc DISCARD:9s 9.995735496999998\"\n",
    "\n",
    "\n",
    "# data = []\n",
    "# data.append(\"NEWHAND 83 true Qc 2d -1813 1813 6.639722\")\n",
    "# data.append(\"GETACTION 3 0 2 POST:1:P1 POST:2:P2 3 CALL FOLD RAISE:4:200 6.639721898000003\")\n",
    "# data.append(\"GETACTION 4 3 7d Th Qd 4 CALL:P1 CHECK:P2 DEAL:FLOP CHECK:P2 3 CHECK DISCARD:Qc DISCARD:2d 6.629336931000003\")\n",
    "# data.append(\"GETACTION 140 3 7d Th Qd 2 CHECK:P1 BET:136:P2 3 FOLD CALL RAISE:198:198 6.600063579000003\")\n",
    "# data.append(\"GETACTION 400 4 7d Th Qd 6c 4 RAISE:198:P1 CALL:P2 DEAL:TURN CHECK:P2 3 CHECK DISCARD:Qc DISCARD:2d 6.588907597000003\")\n",
    "# data.append(\"HANDOVER -1613 1613 5 7d Th Qd 6c 9d 5 DISCARD:2d:8h:P1 DEAL:RIVER SHOW:Qc:8h:P1 SHOW:2h:Td:P2 WIN:400:P1 6.558397055000003\")\n",
    "\n",
    "\n",
    "data = []\n",
    "data.append(\"NEWHAND 19 true 4s Ks -342 342 9.451623\")\n",
    "data.append(\"GETACTION 3 0 2 POST:1:P1 POST:2:P2 3 CALL FOLD RAISE:4:200 9.451623012\")\n",
    "data.append(\"GETACTION 134 3 4d 9s Ah 4 RAISE:67:P1 CALL:P2 DEAL:FLOP DISCARD:P2 3 CHECK DISCARD:4s DISCARD:Ks 9.436031113\")\n",
    "data.append(\"GETACTION 134 3 4d 9s Ah 2 DISCARD:Ks:3s:P1 CHECK:P2 2 CHECK BET:2:133 9.406581291\")\n",
    "data.append(\"GETACTION 332 4 4d 9s Ah Jh 4 BET:99:P1 CALL:P2 DEAL:TURN CHECK:P2 3 CHECK DISCARD:4s DISCARD:3s 9.397651566\")\n",
    "data.append(\"GETACTION 352 4 4d 9s Ah Jh 2 DISCARD:3s:9h:P1 BET:20:P2 3 FOLD CALL RAISE:34:34 9.350131563\")\n",
    "data.append(\"GETACTION 378 5 4d 9s Ah Jh Js 3 CALL:P1 DEAL:RIVER BET:6:P2 3 FOLD CALL RAISE:12:14 9.335313411\")\n",
    "data.append(\"HANDOVER -150 150 5 4d 9s Ah Jh Js 4 CALL:P1 SHOW:4s:9h:P1 SHOW:Ts:8d:P2 WIN:384:P1 9.323017606999999\")\n",
    "#data.append(\"HANDOVER -150 150 5 4d 9s Ah Jh Js 4 CALL:P1 SHOW:4s:9h:P1 SHOW:Ts:8d:P2 WIN:384:P1 9.323017606999999\")"
   ]
  },
  {
   "cell_type": "code",
   "execution_count": 3,
   "metadata": {
    "collapsed": false
   },
   "outputs": [],
   "source": [
    "jp = Johnny(\"P1\")"
   ]
  },
  {
   "cell_type": "code",
   "execution_count": 4,
   "metadata": {
    "collapsed": false
   },
   "outputs": [
    {
     "name": "stdout",
     "output_type": "stream",
     "text": [
      "NEWHAND 19 true 4s Ks -342 342 9.451623\n",
      "GETACTION 3 0 2 POST:1:P1 POST:2:P2 3 CALL FOLD RAISE:4:200 9.451623012\n",
      "GETACTION 134 3 4d 9s Ah 4 RAISE:67:P1 CALL:P2 DEAL:FLOP DISCARD:P2 3 CHECK DISCARD:4s DISCARD:Ks 9.436031113\n",
      "GETACTION 134 3 4d 9s Ah 2 DISCARD:Ks:3s:P1 CHECK:P2 2 CHECK BET:2:133 9.406581291\n",
      "Updated hand ... \n",
      "['4s', '3s']\n",
      "GETACTION 332 4 4d 9s Ah Jh 4 BET:99:P1 CALL:P2 DEAL:TURN CHECK:P2 3 CHECK DISCARD:4s DISCARD:3s 9.397651566\n",
      "GETACTION 352 4 4d 9s Ah Jh 2 DISCARD:3s:9h:P1 BET:20:P2 3 FOLD CALL RAISE:34:34 9.350131563\n",
      "Updated hand ... \n",
      "['4s', '9h']\n",
      "GETACTION 378 5 4d 9s Ah Jh Js 3 CALL:P1 DEAL:RIVER BET:6:P2 3 FOLD CALL RAISE:12:14 9.335313411\n",
      "HANDOVER -150 150 5 4d 9s Ah Jh Js 4 CALL:P1 SHOW:4s:9h:P1 SHOW:Ts:8d:P2 WIN:384:P1 9.323017606999999\n"
     ]
    }
   ],
   "source": [
    "for i in range(0,8):\n",
    "    print(data[i])\n",
    "    jp.parse_data(data[i])\n",
    "    jp.update_temporal_feature_matrix()\n",
    "  \n",
    "#jp.temporal_feature_matrix[:,:17]\n",
    "#inputs, action_strs = jp.brain.enumerate_next_action_vectors(jp)\n",
    "#Qvals, possible_states = jp.brain.evaluate_Q_function(jp.temporal_feature_matrix.T, inputs)\n",
    "action = jp.brain.make_decision(jp)"
   ]
  },
  {
   "cell_type": "code",
   "execution_count": 5,
   "metadata": {
    "collapsed": false
   },
   "outputs": [
    {
     "data": {
      "text/plain": [
       "[array([[[ 0.005,  0.   ,  0.   ,  0.   ,  0.   ],\n",
       "         [ 0.005,  0.01 ,  0.   ,  0.   ,  0.   ],\n",
       "         [ 0.335,  0.01 ,  0.   ,  0.   ,  0.   ],\n",
       "         [ 0.335,  0.335,  0.   ,  0.   ,  0.   ],\n",
       "         [ 0.335,  0.335,  1.   ,  0.   ,  0.   ],\n",
       "         [ 0.335,  0.335,  1.   ,  0.   ,  1.   ],\n",
       "         [ 0.335,  0.335,  1.   ,  1.   ,  0.   ],\n",
       "         [ 0.335,  0.335,  1.   ,  0.   ,  0.   ],\n",
       "         [ 0.83 ,  0.335,  1.   ,  0.   ,  0.   ],\n",
       "         [ 0.83 ,  0.83 ,  1.   ,  0.   ,  0.   ],\n",
       "         [ 0.83 ,  0.83 ,  2.   ,  0.   ,  0.   ],\n",
       "         [ 0.83 ,  0.83 ,  2.   ,  0.   ,  0.   ],\n",
       "         [ 0.83 ,  0.83 ,  2.   ,  1.   ,  0.   ],\n",
       "         [ 0.83 ,  0.93 ,  2.   ,  0.   ,  0.   ],\n",
       "         [ 0.93 ,  0.93 ,  2.   ,  0.   ,  0.   ],\n",
       "         [ 0.93 ,  0.93 ,  3.   ,  0.   ,  0.   ],\n",
       "         [ 0.93 ,  0.96 ,  3.   ,  0.   ,  0.   ],\n",
       "         [ 0.96 ,  0.96 ,  3.   ,  0.   ,  0.   ],\n",
       "         [ 0.   ,  0.   ,  0.   ,  0.   ,  0.   ],\n",
       "         [ 0.   ,  0.   ,  0.   ,  0.   ,  0.   ],\n",
       "         [ 1.   ,  0.   ,  3.   ,  0.   ,  0.   ]]]), array([[ 0.72]])]"
      ]
     },
     "execution_count": 5,
     "metadata": {},
     "output_type": "execute_result"
    }
   ],
   "source": [
    "jp.brain.new_state"
   ]
  },
  {
   "cell_type": "code",
   "execution_count": 9,
   "metadata": {
    "collapsed": false
   },
   "outputs": [
    {
     "name": "stdout",
     "output_type": "stream",
     "text": [
      "Epoch 1/1\n",
      "1/1 [==============================] - 0s - loss: 36865.1016\n"
     ]
    }
   ],
   "source": [
    "jp.brain.learn_from_last_action(jp)"
   ]
  },
  {
   "cell_type": "code",
   "execution_count": null,
   "metadata": {
    "collapsed": false
   },
   "outputs": [],
   "source": [
    "T = jp.temporal_feature_matrix.T\n",
    "T = np.vstack((T, inputs[0][0])).reshape((1,-1,T.shape[1]))\n",
    "print(T.shape)\n",
    "\n",
    "new_input = [T, inputs[0][1]]\n",
    "#print(new_input)\n",
    "yhat = jp.brain.Q.predict(new_input)"
   ]
  },
  {
   "cell_type": "code",
   "execution_count": null,
   "metadata": {
    "collapsed": false
   },
   "outputs": [],
   "source": []
  },
  {
   "cell_type": "code",
   "execution_count": null,
   "metadata": {
    "collapsed": true
   },
   "outputs": [],
   "source": [
    "startTime = datetime.now()\n",
    "for i in range(len(data)):\n",
    "    print(data[i])\n",
    "    jp.parse_data(data[i])\n",
    "    if jp.possible_actions:\n",
    "        print(jp.possible_actions)\n",
    "    jp.update_temporal_feature_matrix()\n",
    "    print(jp.temporal_feature_matrix)\n",
    "    \n",
    "print datetime.now() - startTime"
   ]
  },
  {
   "cell_type": "code",
   "execution_count": null,
   "metadata": {
    "collapsed": false
   },
   "outputs": [],
   "source": [
    "board = ['Th', 'Js', 'Qh']\n",
    "hand = ['Kh']\n",
    "nsim = 100\n",
    "\n",
    "print(jp.evaluate_showdown_probabilities(hand, board, nsim))"
   ]
  },
  {
   "cell_type": "code",
   "execution_count": null,
   "metadata": {
    "collapsed": false
   },
   "outputs": [],
   "source": []
  },
  {
   "cell_type": "code",
   "execution_count": null,
   "metadata": {
    "collapsed": false
   },
   "outputs": [],
   "source": [
    "card_evaluator.evaluate(board_sim,hand_sim)"
   ]
  },
  {
   "cell_type": "code",
   "execution_count": null,
   "metadata": {
    "collapsed": true
   },
   "outputs": [],
   "source": [
    "al = [item for sublist in jp.hand['action_history'] for item in sublist]"
   ]
  },
  {
   "cell_type": "code",
   "execution_count": null,
   "metadata": {
    "collapsed": false
   },
   "outputs": [],
   "source": [
    "al"
   ]
  },
  {
   "cell_type": "code",
   "execution_count": null,
   "metadata": {
    "collapsed": false
   },
   "outputs": [],
   "source": [
    "np.hstack((np.zeros((3,)), np.zeros((3,1))))"
   ]
  },
  {
   "cell_type": "code",
   "execution_count": null,
   "metadata": {
    "collapsed": false
   },
   "outputs": [],
   "source": [
    "card_evaluator.evaluate(board_sim,villain_hand)"
   ]
  },
  {
   "cell_type": "code",
   "execution_count": null,
   "metadata": {
    "collapsed": false
   },
   "outputs": [],
   "source": [
    "street = 1 if \"FLOP\" == \"FLOP\" else 0\n",
    "print street"
   ]
  },
  {
   "cell_type": "code",
   "execution_count": null,
   "metadata": {
    "collapsed": false
   },
   "outputs": [],
   "source": [
    "yo = ['A','B', \"C\", 'D', 'E']\n",
    "\n",
    "bo = cp.copy(yo)\n",
    "bo.extend(\"F\")\n",
    "print(bo)\n",
    "print(yo)"
   ]
  },
  {
   "cell_type": "code",
   "execution_count": null,
   "metadata": {
    "collapsed": false
   },
   "outputs": [],
   "source": [
    "print(bo[0:2])"
   ]
  },
  {
   "cell_type": "code",
   "execution_count": null,
   "metadata": {
    "collapsed": false
   },
   "outputs": [],
   "source": [
    "print(bo[2:2+3])"
   ]
  },
  {
   "cell_type": "code",
   "execution_count": null,
   "metadata": {
    "collapsed": false
   },
   "outputs": [],
   "source": [
    "print(bo[(2+3):])"
   ]
  },
  {
   "cell_type": "code",
   "execution_count": null,
   "metadata": {
    "collapsed": false
   },
   "outputs": [],
   "source": [
    "v = 0.0\n",
    "v += False\n",
    "v += True\n",
    "print(v)"
   ]
  },
  {
   "cell_type": "code",
   "execution_count": null,
   "metadata": {
    "collapsed": false
   },
   "outputs": [],
   "source": [
    "jp.possible_actions"
   ]
  },
  {
   "cell_type": "code",
   "execution_count": null,
   "metadata": {
    "collapsed": false
   },
   "outputs": [],
   "source": [
    "for i in range(2, 201, 5):\n",
    "    print(i)"
   ]
  },
  {
   "cell_type": "code",
   "execution_count": null,
   "metadata": {
    "collapsed": false
   },
   "outputs": [],
   "source": [
    "b"
   ]
  },
  {
   "cell_type": "code",
   "execution_count": 4,
   "metadata": {
    "collapsed": false
   },
   "outputs": [
    {
     "ename": "NameError",
     "evalue": "name 'Johnny' is not defined",
     "output_type": "error",
     "traceback": [
      "\u001b[0;31m---------------------------------------------------------------------------\u001b[0m",
      "\u001b[0;31mNameError\u001b[0m                                 Traceback (most recent call last)",
      "\u001b[0;32m<ipython-input-4-d0984e0ae776>\u001b[0m in \u001b[0;36m<module>\u001b[0;34m()\u001b[0m\n\u001b[0;32m----> 1\u001b[0;31m \u001b[0;32mprint\u001b[0m \u001b[0mJohnny\u001b[0m\u001b[0;34m.\u001b[0m\u001b[0m__name__\u001b[0m\u001b[0;34m\u001b[0m\u001b[0m\n\u001b[0m",
      "\u001b[0;31mNameError\u001b[0m: name 'Johnny' is not defined"
     ]
    }
   ],
   "source": [
    "print Johnny.__name__"
   ]
  },
  {
   "cell_type": "code",
   "execution_count": null,
   "metadata": {
    "collapsed": true
   },
   "outputs": [],
   "source": []
  }
 ],
 "metadata": {
  "kernelspec": {
   "display_name": "Python 2",
   "language": "python",
   "name": "python2"
  },
  "language_info": {
   "codemirror_mode": {
    "name": "ipython",
    "version": 2
   },
   "file_extension": ".py",
   "mimetype": "text/x-python",
   "name": "python",
   "nbconvert_exporter": "python",
   "pygments_lexer": "ipython2",
   "version": "2.7.13"
  }
 },
 "nbformat": 4,
 "nbformat_minor": 0
}
