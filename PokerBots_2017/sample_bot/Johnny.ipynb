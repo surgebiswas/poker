{
 "cells": [
  {
   "cell_type": "code",
   "execution_count": 2,
   "metadata": {
    "collapsed": false
   },
   "outputs": [],
   "source": [
    "import argparse\n",
    "import socket\n",
    "import sys\n",
    "import random\n",
    "\n",
    "\"\"\"\n",
    "Simple example pokerbot, written in python.\n",
    "\n",
    "This is an example of a bare bones pokerbot. It only sets up the socket\n",
    "necessary to connect with the engine and then always returns the same action.\n",
    "It is meant as an example of how a pokerbot should communicate with the engine.\n",
    "\"\"\"\n",
    "class Johnny:\n",
    "    \n",
    "    def parse_data(self, data):\n",
    "        splits = data.split()\n",
    "        packet_type = splits[0]\n",
    "        \n",
    "        if packet_type == \"NEWHAND\":\n",
    "            self.parse_new_hand(splits)\n",
    "        elif packet_type == \"GETACTION\":\n",
    "            self.parse_get_action(splits)\n",
    "            \n",
    "    def parse_get_action(data_splits):\n",
    "        self.hand.pot_size =  int(data_splits[1])\n",
    "        \n",
    "        num_board_cards = int(data_splits[2])\n",
    "        counter = 3\n",
    "        self.hand.board = data_splits[counter:counter+num_board_cards]\n",
    "        counter += num_board_cards\n",
    "        \n",
    "        num_last_actions = data_splits[counter]\n",
    "        counter++\n",
    "        self.hand.action_history.append(data_splits[counter:counter+num_last_actions])\n",
    "        counter += num_last_actions\n",
    "        \n",
    "        \n",
    "\n",
    "    def parse_new_hand(self, data_splits):\n",
    "        self.hand.hand_id = int(data_splits[1])\n",
    "        self.hand.button = data_splits[2]\n",
    "        self.hand.hole1 = data_splits[3]\n",
    "        self.hand.hole2 = data_splits[4]\n",
    "        \n",
    "        self.state.my_bank = int(data_splits[5])\n",
    "        self.state.their_bank = int(data_splits[6])\n",
    "        self.state.time_bank = float(data_splits[7])\n",
    "    \n",
    "    def run(self, input_socket):\n",
    "        # Get a file-object for reading packets from the socket.\n",
    "        # Using this ensures that you get exactly one packet per read.\n",
    "        f_in = input_socket.makefile()\n",
    "        while True:\n",
    "            # Block until the engine sends us a packet.\n",
    "            data = f_in.readline().strip()\n",
    "            # If data is None, connection has closed.\n",
    "            if not data:\n",
    "                print \"Gameover, engine disconnected.\"\n",
    "                break\n",
    "\n",
    "            # Here is where you should implement code to parse the packets from\n",
    "            # the engine and act on it. We are just printing it instead.\n",
    "            print data\n",
    "            \n",
    "            # Parse data\n",
    "            # Build features\n",
    "            # Take action \n",
    "\n",
    "            # When appropriate, reply to the engine with a legal action.\n",
    "            # The engine will ignore all spurious responses.\n",
    "            # The engine will also check/fold for you if you return an\n",
    "            # illegal action.\n",
    "            # When sending responses, terminate each response with a newline\n",
    "            # character (\\n) or your bot will hang!\n",
    "            word = data.split()[0]\n",
    "            if word == \"GETACTION\":\n",
    "                # Currently CHECK on every move. You'll want to change this.\n",
    "                if random.random\n",
    "                s.send(\"CHECK\\n\")\n",
    "            elif word == \"REQUESTKEYVALUES\":\n",
    "                # At the end, the engine will allow your bot save key/value pairs.\n",
    "                # Send FINISH to indicate you're done.\n",
    "                s.send(\"FINISH\\n\")\n",
    "        # Clean up the socket.\n",
    "        s.close()"
   ]
  },
  {
   "cell_type": "code",
   "execution_count": 3,
   "metadata": {
    "collapsed": true
   },
   "outputs": [],
   "source": [
    "data = \"GETACTION 4 3 5d Kd 6h 2 CHECK:P1 DEAL:FLOP 3 CHECK DISCARD:Jc DISCARD:9s 9.995735496999998\""
   ]
  },
  {
   "cell_type": "code",
   "execution_count": 7,
   "metadata": {
    "collapsed": false
   },
   "outputs": [
    {
     "ename": "NameError",
     "evalue": "name 'd' is not defined",
     "output_type": "error",
     "traceback": [
      "\u001b[0;31m---------------------------------------------------------------------------\u001b[0m",
      "\u001b[0;31mNameError\u001b[0m                                 Traceback (most recent call last)",
      "\u001b[0;32m<ipython-input-7-3625a8639401>\u001b[0m in \u001b[0;36m<module>\u001b[0;34m()\u001b[0m\n\u001b[0;32m----> 1\u001b[0;31m \u001b[0md\u001b[0m\u001b[0;34m.\u001b[0m\u001b[0mappend\u001b[0m\u001b[0;34m(\u001b[0m\u001b[0;34m'o'\u001b[0m\u001b[0;34m)\u001b[0m\u001b[0;34m\u001b[0m\u001b[0m\n\u001b[0m",
      "\u001b[0;31mNameError\u001b[0m: name 'd' is not defined"
     ]
    }
   ],
   "source": [
    "d.append('o')"
   ]
  },
  {
   "cell_type": "code",
   "execution_count": null,
   "metadata": {
    "collapsed": true
   },
   "outputs": [],
   "source": []
  }
 ],
 "metadata": {
  "kernelspec": {
   "display_name": "Python 2",
   "language": "python",
   "name": "python2"
  },
  "language_info": {
   "codemirror_mode": {
    "name": "ipython",
    "version": 2
   },
   "file_extension": ".py",
   "mimetype": "text/x-python",
   "name": "python",
   "nbconvert_exporter": "python",
   "pygments_lexer": "ipython2",
   "version": "2.7.13"
  }
 },
 "nbformat": 4,
 "nbformat_minor": 0
}
