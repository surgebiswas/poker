{
 "cells": [
  {
   "cell_type": "code",
   "execution_count": 102,
   "metadata": {
    "collapsed": true
   },
   "outputs": [],
   "source": [
    "from datetime import datetime"
   ]
  },
  {
   "cell_type": "code",
   "execution_count": 107,
   "metadata": {
    "collapsed": false
   },
   "outputs": [],
   "source": [
    "import argparse\n",
    "import socket\n",
    "import sys\n",
    "\n",
    "\"\"\"\n",
    "Simple example pokerbot, written in python.\n",
    "\n",
    "This is an example of a bare bones pokerbot. It only sets up the socket\n",
    "necessary to connect with the engine and then always returns the same action.\n",
    "It is meant as an example of how a pokerbot should communicate with the engine.\n",
    "\"\"\"\n",
    "class Johnny:\n",
    "    \"\"\"\n",
    "    self.bot_name = bot_name in config file. Corresponds to PLAYER_X_NAME field.\n",
    "    \n",
    "    self.hand = a dictionary storing properties of the current hand. Has the following keys.\n",
    "        hand_id = int. ID of hand.\n",
    "        button = boolean. Are we the dealer?\n",
    "        hole1 = hole card 1\n",
    "        hole2 = hole card 2\n",
    "        board = current known board cards \n",
    "        action_history = a list of the last actions. action_history[i] = another list that describes\n",
    "                         the previous actions up until action point i.\n",
    "        result = int. Chips won (can be a negative integer if we lost chips)\n",
    "    \n",
    "    self.state = A dictionary representing the our state in the current match. Has the following keys.\n",
    "        my_bank = our current bankroll \n",
    "        their_bank = their current bankroll\n",
    "        time_bank = cumulative time remaining in the match\n",
    "        \n",
    "        \n",
    "    \"\"\"\n",
    "    \n",
    "    \n",
    "    def __init__(self, bot_name):\n",
    "        self.bot_name = bot_name\n",
    "        self.hand = {}\n",
    "        self.hand['action_history'] = []\n",
    "        self.hand['pot_size'] = []\n",
    "        \n",
    "        self.state = {}\n",
    "        \n",
    "    \n",
    "    def parse_data(self, data):\n",
    "        splits = data.split()\n",
    "        packet_type = splits[0]\n",
    "        print packet_type\n",
    "        \n",
    "        if packet_type == \"NEWHAND\":\n",
    "            self.parse_new_hand(splits)\n",
    "        elif packet_type == \"GETACTION\":\n",
    "            self.parse_get_action(splits)\n",
    "        elif packet_type == \"HANDOVER\":\n",
    "            self.parse_hand_over(splits)\n",
    "            \n",
    "    def parse_win_result(self, wr):\n",
    "        splits = wr.split(\":\")\n",
    "        amt = int(splits[1])\n",
    "        winner = splits[2]\n",
    "        \n",
    "        if winner == self.bot_name:\n",
    "            return amt\n",
    "        else:\n",
    "            return -amt\n",
    "        \n",
    "            \n",
    "    def parse_hand_over(self, data_splits):\n",
    "        # HANDOVER Stack1 Stack2 numBoardCards [boardCards] numLastActions [lastActions] timeBank\n",
    "        # Can ignore Stack1 and Stack2 because we'll get it on the next NEWHAND packet.\n",
    "        num_board_cards = int(data_splits[3])\n",
    "        counter = 4\n",
    "        self.hand['board'] = data_splits[counter:counter+num_board_cards]\n",
    "        counter += num_board_cards\n",
    "        \n",
    "        num_last_actions = int(data_splits[counter])\n",
    "        counter += 1\n",
    "        self.hand['action_history'].append(data_splits[counter:counter+num_last_actions-1])\n",
    "        self.hand['result'] = self.parse_win_result(data_splits[counter+num_last_actions-1])\n",
    "        counter += num_last_actions\n",
    "        \n",
    "        self.state['time_bank'] = float(data_splits[-1])\n",
    "        \n",
    "            \n",
    "    def parse_get_action(self, data_splits):\n",
    "        # GETACTION potSize numBoardCards [boardCards] numLastActions [lastActions] numLegalActions [legalActions] timebank\n",
    "        self.hand['pot_size'].append(int(data_splits[1]))\n",
    "        \n",
    "        num_board_cards = int(data_splits[2])\n",
    "        counter = 3\n",
    "        self.hand['board'] = data_splits[counter:counter+num_board_cards]\n",
    "        counter += num_board_cards\n",
    "        \n",
    "        num_last_actions = int(data_splits[counter])\n",
    "        counter += 1\n",
    "        self.hand['action_history'].append(data_splits[counter:counter+num_last_actions])\n",
    "        counter += num_last_actions\n",
    "        \n",
    "        num_legal_actions = int(data_splits[counter])\n",
    "        counter += 1\n",
    "        self.possible_actions = data_splits[counter:counter+num_legal_actions]\n",
    "        counter += num_legal_actions\n",
    "        \n",
    "        self.state['time_bank'] = float(data_splits[-1])\n",
    "\n",
    "    def parse_new_hand(self, data_splits):\n",
    "        # NEWHAND handId button holeCard1 holeCard2 myBank otherBank timeBank\n",
    "        self.hand['hand_id'] = int(data_splits[1])\n",
    "        self.hand['button'] = data_splits[2]\n",
    "        self.hand['hole1'] = data_splits[3]\n",
    "        self.hand['hole2'] = data_splits[4]\n",
    "        \n",
    "        self.state['my_bank'] = int(data_splits[5])\n",
    "        self.state['their_bank'] = int(data_splits[6])\n",
    "        self.state['time_bank'] = float(data_splits[7])\n",
    "    \n",
    "    def run(self, input_socket):\n",
    "        # Get a file-object for reading packets from the socket.\n",
    "        # Using this ensures that you get exactly one packet per read.\n",
    "        f_in = input_socket.makefile()\n",
    "        while True:\n",
    "            # Block until the engine sends us a packet.\n",
    "            data = f_in.readline().strip()\n",
    "            # If data is None, connection has closed.\n",
    "            if not data:\n",
    "                print \"Gameover, engine disconnected.\"\n",
    "                break\n",
    "\n",
    "            # Here is where you should implement code to parse the packets from\n",
    "            # the engine and act on it. We are just printing it instead.\n",
    "            self.parse_data(data)\n",
    "            \n",
    "            # Parse data\n",
    "            # Build features\n",
    "            # Take action \n",
    "\n",
    "            # When appropriate, reply to the engine with a legal action.\n",
    "            # The engine will ignore all spurious responses.\n",
    "            # The engine will also check/fold for you if you return an\n",
    "            # illegal action.\n",
    "            # When sending responses, terminate each response with a newline\n",
    "            # character (\\n) or your bot will hang!\n",
    "            word = data.split()[0]\n",
    "            if word == \"GETACTION\":\n",
    "                # Currently CHECK on every move. You'll want to change this.\n",
    "                s.send(\"CHECK\\n\")\n",
    "            elif word == \"REQUESTKEYVALUES\":\n",
    "                # At the end, the engine will allow your bot save key/value pairs.\n",
    "                # Send FINISH to indicate you're done.\n",
    "                s.send(\"FINISH\\n\")\n",
    "        # Clean up the socket.\n",
    "        s.close()"
   ]
  },
  {
   "cell_type": "code",
   "execution_count": 108,
   "metadata": {
    "collapsed": false
   },
   "outputs": [],
   "source": [
    "# data = []\n",
    "# data.append(\"NEWHAND 98 false 9c 4s -111 111 9.931115\")\n",
    "# data.append(\"GETACTION 4 0 3 POST:1:P2 POST:2:P1 CALL:P2 2 CHECK RAISE:4:200 9.931115124999993\")\n",
    "# data.append(\"GETACTION 4 3 4d 5c Js 2 CHECK:P1 DEAL:FLOP 3 CHECK DISCARD:9c DISCARD:4s 9.930735672999992\")\n",
    "# data.append(\"GETACTION 4 3 4d 5c Js 2 CHECK:P1 CHECK:P2 2 CHECK BET:2:198 9.930290227999992\")\n",
    "# data.append(\"GETACTION 4 4 4d 5c Js Jh 3 CHECK:P1 CHECK:P2 DEAL:TURN 3 CHECK DISCARD:9c DISCARD:4s 9.929636328999992\")\n",
    "# data.append(\"GETACTION 4 4 4d 5c Js Jh 2 CHECK:P1 DISCARD:P2 2 CHECK BET:2:198 9.928944276999992\")\n",
    "# data.append(\"GETACTION 83 4 4d 5c Js Jh 2 CHECK:P1 BET:79:P2 3 FOLD CALL RAISE:158:198 9.928641209999991\")\n",
    "# data.append(\"HANDOVER -113 113 4 4d 5c Js Jh 3 FOLD:P1 REFUND:79:P2 WIN:4:P2 9.928236565999992\")\n",
    "\n",
    "\n",
    "data = []\n",
    "data.append(\"NEWHAND 80 false Kd Qh -77 77 9.942149\")\n",
    "data.append(\"GETACTION 4 0 3 POST:1:P2 POST:2:P1 CALL:P2 2 CHECK RAISE:4:200 9.942148733999993\")\n",
    "data.append(\"GETACTION 4 3 9d 4h Ts 2 CHECK:P1 DEAL:FLOP 3 CHECK DISCARD:Kd DISCARD:Qh 9.941793586999992\")\n",
    "data.append(\"GETACTION 4 3 9d 4h Ts 2 CHECK:P1 CHECK:P2 2 CHECK BET:2:198 9.941348511999992\")\n",
    "data.append(\"GETACTION 56 3 9d 4h Ts 2 CHECK:P1 BET:52:P2 3 FOLD CALL RAISE:104:198 9.940922597999993\")\n",
    "data.append(\"HANDOVER -79 79 3 9d 4h Ts 3 FOLD:P1 REFUND:52:P2 WIN:4:P2 9.940476787999993\")\n",
    "\n",
    "\n",
    "\n",
    "#data = \"GETACTION 4 3 5d Kd 6h 2 CHECK:P1 DEAL:FLOP 3 CHECK DISCARD:Jc DISCARD:9s 9.995735496999998\""
   ]
  },
  {
   "cell_type": "code",
   "execution_count": 109,
   "metadata": {
    "collapsed": false
   },
   "outputs": [],
   "source": [
    "jp = Johnny(\"P1\")"
   ]
  },
  {
   "cell_type": "code",
   "execution_count": 110,
   "metadata": {
    "collapsed": false
   },
   "outputs": [
    {
     "name": "stdout",
     "output_type": "stream",
     "text": [
      "NEWHAND\n",
      "GETACTION\n",
      "GETACTION\n",
      "GETACTION\n",
      "GETACTION\n",
      "HANDOVER\n",
      "0:00:00.000659\n"
     ]
    }
   ],
   "source": [
    "startTime = datetime.now()\n",
    "for i in range(len(data)):\n",
    "    jp.parse_data(data[i])\n",
    "    \n",
    "print datetime.now() - startTime"
   ]
  },
  {
   "cell_type": "code",
   "execution_count": 111,
   "metadata": {
    "collapsed": false
   },
   "outputs": [
    {
     "name": "stdout",
     "output_type": "stream",
     "text": [
      "P1\n",
      "{'my_bank': -77, 'their_bank': 77, 'time_bank': 9.940476787999993}\n"
     ]
    },
    {
     "data": {
      "text/plain": [
       "{'action_history': [['POST:1:P2', 'POST:2:P1', 'CALL:P2'],\n",
       "  ['CHECK:P1', 'DEAL:FLOP'],\n",
       "  ['CHECK:P1', 'CHECK:P2'],\n",
       "  ['CHECK:P1', 'BET:52:P2'],\n",
       "  ['FOLD:P1', 'REFUND:52:P2']],\n",
       " 'board': ['9d', '4h', 'Ts'],\n",
       " 'button': 'false',\n",
       " 'hand_id': 80,\n",
       " 'hole1': 'Kd',\n",
       " 'hole2': 'Qh',\n",
       " 'pot_size': [4, 4, 4, 56],\n",
       " 'result': -4}"
      ]
     },
     "execution_count": 111,
     "metadata": {},
     "output_type": "execute_result"
    }
   ],
   "source": [
    "print jp.bot_name\n",
    "print jp.state\n",
    "jp.hand"
   ]
  },
  {
   "cell_type": "code",
   "execution_count": 44,
   "metadata": {
    "collapsed": false
   },
   "outputs": [
    {
     "ename": "NameError",
     "evalue": "name 'attributes' is not defined",
     "output_type": "error",
     "traceback": [
      "\u001b[0;31m---------------------------------------------------------------------------\u001b[0m",
      "\u001b[0;31mNameError\u001b[0m                                 Traceback (most recent call last)",
      "\u001b[0;32m<ipython-input-44-de418e82bdbf>\u001b[0m in \u001b[0;36m<module>\u001b[0;34m()\u001b[0m\n\u001b[0;32m----> 1\u001b[0;31m \u001b[0mattributes\u001b[0m\u001b[0;34m(\u001b[0m\u001b[0mjp\u001b[0m\u001b[0;34m)\u001b[0m\u001b[0;34m\u001b[0m\u001b[0m\n\u001b[0m",
      "\u001b[0;31mNameError\u001b[0m: name 'attributes' is not defined"
     ]
    }
   ],
   "source": []
  },
  {
   "cell_type": "code",
   "execution_count": null,
   "metadata": {
    "collapsed": true
   },
   "outputs": [],
   "source": [
    "jp.time"
   ]
  }
 ],
 "metadata": {
  "kernelspec": {
   "display_name": "Python 2",
   "language": "python",
   "name": "python2"
  },
  "language_info": {
   "codemirror_mode": {
    "name": "ipython",
    "version": 2
   },
   "file_extension": ".py",
   "mimetype": "text/x-python",
   "name": "python",
   "nbconvert_exporter": "python",
   "pygments_lexer": "ipython2",
   "version": "2.7.13"
  }
 },
 "nbformat": 4,
 "nbformat_minor": 0
}
