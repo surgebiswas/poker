{
 "cells": [
  {
   "cell_type": "code",
   "execution_count": 1,
   "metadata": {
    "collapsed": true
   },
   "outputs": [],
   "source": [
    "from datetime import datetime\n"
   ]
  },
  {
   "cell_type": "code",
   "execution_count": 36,
   "metadata": {
    "collapsed": false
   },
   "outputs": [],
   "source": [
    "import argparse\n",
    "import socket\n",
    "import sys\n",
    "import numpy as np\n",
    "import deuces as de\n",
    "from deuces import Card\n",
    "from deuces import Evaluator\n",
    "from random import sample\n",
    "import copy as cp\n",
    "\n",
    "\n",
    "np.set_printoptions(linewidth=150)\n",
    "\"\"\"\n",
    "Simple example pokerbot, written in python.\n",
    "\n",
    "This is an example of a bare bones pokerbot. It only sets up the socket\n",
    "necessary to connect with the engine and then always returns the same action.\n",
    "It is meant as an example of how a pokerbot should communicate with the engine.\n",
    "\"\"\"\n",
    "class Johnny:\n",
    "    \"\"\"\n",
    "    self.bot_name = bot_name in config file. Corresponds to PLAYER_X_NAME field.\n",
    "    \n",
    "    self.hand = a dictionary storing properties of the current hand. Has the following keys.\n",
    "        hand_id = int. ID of hand.\n",
    "        button = boolean. Are we the dealer?\n",
    "        hole1 = hole card 1\n",
    "        hole2 = hole card 2\n",
    "        board = current known board cards \n",
    "        action_history = a list of the last actions. action_history[i] = another list that describes\n",
    "                         the previous actions up until action point i.\n",
    "        result = int. Chips won (can be a negative integer if we lost chips)\n",
    "    \n",
    "    self.state = A dictionary representing the our state in the current match. Has the following keys.\n",
    "        my_bank = our current bankroll \n",
    "        their_bank = their current bankroll\n",
    "        time_bank = cumulative time remaining in the match\n",
    "        \n",
    "        \n",
    "    \"\"\"\n",
    "    \n",
    "    \n",
    "    def __init__(self, bot_name):\n",
    "        self.bot_name = bot_name\n",
    "        self.state = {}\n",
    "        self.card_evaluator = Evaluator()\n",
    "        \n",
    "        self.reset_hand()\n",
    "        \n",
    "        \n",
    "    def reset_hand(self):\n",
    "        self.hand = {}\n",
    "        self.hand['action_history'] = []\n",
    "        self.hand['pot_size'] = []\n",
    "        self.temporal_feature_matrix = []\n",
    "        \n",
    "    \n",
    "    \n",
    "    \n",
    "    \n",
    "    \n",
    "    \n",
    "        \n",
    "    ### ------- PARSING ------- ### \n",
    "    def parse_data(self, data):\n",
    "        splits = data.split()\n",
    "        packet_type = splits[0]\n",
    "        \n",
    "        if packet_type == \"NEWHAND\":\n",
    "            self.parse_new_hand(splits)\n",
    "        elif packet_type == \"GETACTION\":\n",
    "            self.parse_get_action(splits)\n",
    "        elif packet_type == \"HANDOVER\":\n",
    "            self.parse_hand_over(splits)\n",
    "            \n",
    "    def parse_win_result(self, wr):\n",
    "        splits = wr.split(\":\")\n",
    "        amt = int(splits[1])\n",
    "        winner = splits[2]\n",
    "        \n",
    "        if winner == self.bot_name:\n",
    "            return amt\n",
    "        else:\n",
    "            return -amt\n",
    "        \n",
    "            \n",
    "    def parse_hand_over(self, data_splits):\n",
    "        # HANDOVER Stack1 Stack2 numBoardCards [boardCards] numLastActions [lastActions] timeBank\n",
    "        # Can ignore Stack1 and Stack2 because we'll get it on the next NEWHAND packet.\n",
    "        num_board_cards = int(data_splits[3])\n",
    "        counter = 4\n",
    "        self.hand['board'] = data_splits[counter:counter+num_board_cards]\n",
    "        counter += num_board_cards\n",
    "        \n",
    "        num_last_actions = int(data_splits[counter])\n",
    "        counter += 1\n",
    "        self.hand['action_history'].append(data_splits[counter:counter+num_last_actions-1])\n",
    "        self.hand['result'] = self.parse_win_result(data_splits[counter+num_last_actions-1])\n",
    "        counter += num_last_actions\n",
    "        \n",
    "        self.state['time_bank'] = float(data_splits[-1])\n",
    "        \n",
    "        \n",
    "            \n",
    "    def parse_get_action(self, data_splits):\n",
    "        # GETACTION potSize numBoardCards [boardCards] numLastActions [lastActions] numLegalActions [legalActions] timebank\n",
    "        self.hand['pot_size'].append(int(data_splits[1]))\n",
    "        \n",
    "        num_board_cards = int(data_splits[2])\n",
    "        counter = 3\n",
    "        self.hand['board'] = data_splits[counter:counter+num_board_cards]\n",
    "        counter += num_board_cards\n",
    "        \n",
    "        num_last_actions = int(data_splits[counter])\n",
    "        counter += 1\n",
    "        self.hand['action_history'].append(data_splits[counter:counter+num_last_actions])\n",
    "        counter += num_last_actions\n",
    "        \n",
    "        num_legal_actions = int(data_splits[counter])\n",
    "        counter += 1\n",
    "        self.possible_actions = data_splits[counter:counter+num_legal_actions]\n",
    "        counter += num_legal_actions\n",
    "        \n",
    "        self.state['time_bank'] = float(data_splits[-1])\n",
    "\n",
    "    def parse_new_hand(self, data_splits):\n",
    "        # NEWHAND handId button holeCard1 holeCard2 myBank otherBank timeBank\n",
    "        self.reset_hand()\n",
    "        self.hand['hand_id'] = int(data_splits[1])\n",
    "        self.hand['button'] = data_splits[2]\n",
    "        self.hand['hole1'] = data_splits[3]\n",
    "        self.hand['hole2'] = data_splits[4]\n",
    "        \n",
    "        self.state['my_bank'] = int(data_splits[5])\n",
    "        self.state['their_bank'] = int(data_splits[6])\n",
    "        self.state['time_bank'] = float(data_splits[7])\n",
    "    ### ----------------------- ### \n",
    "      \n",
    "    \n",
    "    \n",
    "    \n",
    "    \n",
    "    \n",
    "    \n",
    "    \n",
    "    \n",
    "    \n",
    "    \n",
    "    def update_temporal_feature_matrix(self):\n",
    "        # Columns represent time steps in a hand.\n",
    "        # Rows are as follows:\n",
    "        # 0 - hero action\n",
    "        # 1 - villain action\n",
    "        # 2 - street\n",
    "        # 3 - hero discard?\n",
    "        # 4 - villain discard?\n",
    "        al = [item for sublist in self.hand['action_history'] for item in sublist] # linearize action history list\n",
    "        \n",
    "        if len(al) > 0:\n",
    "            if len(self.temporal_feature_matrix) > 0: # check if it's started to fill out.\n",
    "                start_from_idx = self.temporal_feature_matrix.shape[1]\n",
    "            else:\n",
    "                self.temporal_feature_matrix = self.build_temporal_feature_vector(al[0])\n",
    "                start_from_idx = 1\n",
    "\n",
    "            for i in range(start_from_idx, len(al)):\n",
    "                self.temporal_feature_matrix = np.hstack((self.temporal_feature_matrix, \n",
    "                                                          self.build_temporal_feature_vector(al[i])))\n",
    "            \n",
    "            \n",
    "    def build_temporal_feature_vector(self, performed_action):\n",
    "        # Performed actions to expect.\n",
    "        # BET:amount[:actor]\n",
    "        # CALL[:actor]\n",
    "        # CHECK[:actor]\n",
    "        # DEAL:STREET\n",
    "        # FOLD[:actor]\n",
    "        # POST:amount:actor\n",
    "        # DISCARD[:actor]\n",
    "        # RAISE:amount[:actor]\n",
    "        # REFUND:amount:actor\n",
    "        # SHOW:card1:card2:actor\n",
    "        # TIE:amount:actor\n",
    "        # WIN:amount:actor\n",
    "        \n",
    "        NFEATURES = 5\n",
    "        STACKSIZE = 200\n",
    "        hero_idx = 0\n",
    "        villain_idx = 1\n",
    "        street_idx = 2\n",
    "        hero_discard_idx = 3\n",
    "        villain_discard_idx = 4\n",
    "        \n",
    "        if len(self.temporal_feature_matrix) == 0: # if has not been initialized\n",
    "            street = 0 # preflop\n",
    "        else:\n",
    "            street = np.max(self.temporal_feature_matrix[2])\n",
    "            \n",
    "              \n",
    "        splits = performed_action.split(\":\")\n",
    "        fv = np.zeros((NFEATURES,1))\n",
    "        if splits[0] == \"BET\":\n",
    "            actor_idx = self.get_actor_idx(splits[-1])    \n",
    "            amount = float(splits[1])\n",
    "            fv[actor_idx] = amount/STACKSIZE\n",
    "            fv[street_idx] = street                    \n",
    "        elif splits[0] == \"CALL\":\n",
    "            actor_idx = self.get_actor_idx(splits[-1])    \n",
    "            player_to_call = 1 - actor_idx\n",
    "            call_amt = np.max(self.temporal_feature_matrix[player_to_call])\n",
    "            fv[actor_idx] = call_amt\n",
    "            fv[street_idx] = street\n",
    "        elif splits[0] == \"CHECK\":\n",
    "            actor_idx = self.get_actor_idx(splits[-1])   \n",
    "            fv[actor_idx] = 0\n",
    "            fv[street_idx] = street\n",
    "        elif splits[0] == \"DEAL\":\n",
    "            if splits[1] == \"FLOP\":\n",
    "                street = 1\n",
    "            elif splits[1] == \"TURN\":\n",
    "                street = 2\n",
    "            elif splits[1] == \"RIVER\":\n",
    "                street = 3\n",
    "            fv[street_idx] = street\n",
    "        elif splits[0] == \"FOLD\":\n",
    "            # Hand is now over. nothing to do here.\n",
    "            pass\n",
    "        elif splits[0] == \"POST\":\n",
    "            actor_idx = self.get_actor_idx(splits[-1])  \n",
    "            amount = float(splits[1])/STACKSIZE\n",
    "            fv[actor_idx] = amount\n",
    "            fv[street_idx] = street\n",
    "        elif splits[0] == \"DISCARD\":\n",
    "            actor_idx = self.get_actor_idx(splits[-1])  \n",
    "            fv[actor_idx+3] = 1\n",
    "            fv[street_idx] = street\n",
    "        elif splits[0] == \"RAISE\":\n",
    "            # Raise specifies the amount raised to, not the amount raised.\n",
    "            actor_idx = self.get_actor_idx(splits[-1])  \n",
    "            amount = float(splits[1])/STACKSIZE\n",
    "            fv[actor_idx] = amount\n",
    "            fv[street_idx] = street  \n",
    "        elif splits[0] == \"REFUND\":\n",
    "            # Hand is now over. nothing to do here.\n",
    "            pass\n",
    "        elif splits[0] == \"SHOW\":\n",
    "            # Hand is now over. nothing to do here.\n",
    "            pass\n",
    "        elif splits[0] == \"TIE\":\n",
    "            # Hand is now over. nothing to do here.\n",
    "            pass\n",
    "        elif splits[0] == \"WIN\":\n",
    "            # Hand is now over. nothing to do here.\n",
    "            pass\n",
    "        \n",
    "        return fv\n",
    "    \n",
    "    def get_actor_idx(self, actor):\n",
    "        if actor == self.bot_name:\n",
    "            actor_idx = 0\n",
    "        else:\n",
    "            actor_idx = 1\n",
    "        return actor_idx\n",
    "    \n",
    "    \n",
    "    \n",
    "    ### ------- HAND EVALUATION ------- ###\n",
    "    def evaluate_showdown_probabilities(self, hand, board, nsim):\n",
    "        board_cards = [Card.new(j) for j in board]\n",
    "        hand_cards = [Card.new(j) for j in hand]\n",
    "        cards_in_play = cp.copy(board_cards)\n",
    "        cards_in_play.extend(hand_cards)\n",
    "\n",
    "        board_cards_to_draw = (5 - len(board))\n",
    "        hand_cards_to_draw = (2 - len(hand)) \n",
    "        villain_cards_to_draw = 2\n",
    "        num_cards_to_draw = board_cards_to_draw + hand_cards_to_draw + villain_cards_to_draw \n",
    "\n",
    "        deck = de.Deck()\n",
    "        draw_deck = list(set(deck.cards)-set(cards_in_play))\n",
    "        nwins = 0.0\n",
    "        for i in range(nsim):\n",
    "            rest_of_cards = sample(draw_deck, num_cards_to_draw)\n",
    "            board_sim = cp.copy(board_cards)\n",
    "            hand_sim = cp.copy(hand_cards)\n",
    "\n",
    "            board_sim.extend(rest_of_cards[0:board_cards_to_draw])\n",
    "            hand_sim.extend(rest_of_cards[board_cards_to_draw:(board_cards_to_draw+hand_cards_to_draw)])\n",
    "            villain_hand = rest_of_cards[(board_cards_to_draw+hand_cards_to_draw):]\n",
    "\n",
    "            villain_rank = self.card_evaluator.evaluate(board_sim,villain_hand)\n",
    "            hero_rank = self.card_evaluator.evaluate(board_sim,hand_sim)\n",
    "\n",
    "            nwins += hero_rank < villain_rank\n",
    "\n",
    "        win_pct = nwins/nsim\n",
    "        return win_pct\n",
    "    ### ------------------------------- ###\n",
    "    \n",
    "    \n",
    "    def run(self, input_socket):\n",
    "        # Get a file-object for reading packets from the socket.\n",
    "        # Using this ensures that you get exactly one packet per read.\n",
    "        f_in = input_socket.makefile()\n",
    "        while True:\n",
    "            # Block until the engine sends us a packet.\n",
    "            data = f_in.readline().strip()\n",
    "            # If data is None, connection has closed.\n",
    "            if not data:\n",
    "                print \"Gameover, engine disconnected.\"\n",
    "                break\n",
    "\n",
    "            # Here is where you should implement code to parse the packets from\n",
    "            # the engine and act on it. We are just printing it instead.\n",
    "            self.parse_data(data)\n",
    "            \n",
    "            # Parse data\n",
    "            # Build features\n",
    "            # Take action \n",
    "\n",
    "            # When appropriate, reply to the engine with a legal action.\n",
    "            # The engine will ignore all spurious responses.\n",
    "            # The engine will also check/fold for you if you return an\n",
    "            # illegal action.\n",
    "            # When sending responses, terminate each response with a newline\n",
    "            # character (\\n) or your bot will hang!\n",
    "            word = data.split()[0]\n",
    "            if word == \"GETACTION\":\n",
    "                # Currently CHECK on every move. You'll want to change this.\n",
    "                s.send(\"CHECK\\n\")\n",
    "            elif word == \"REQUESTKEYVALUES\":\n",
    "                # At the end, the engine will allow your bot save key/value pairs.\n",
    "                # Send FINISH to indicate you're done.\n",
    "                s.send(\"FINISH\\n\")\n",
    "        # Clean up the socket.\n",
    "        s.close()"
   ]
  },
  {
   "cell_type": "code",
   "execution_count": 37,
   "metadata": {
    "collapsed": false
   },
   "outputs": [],
   "source": [
    "# data = []\n",
    "# data.append(\"NEWHAND 98 false 9c 4s -111 111 9.931115\")\n",
    "# data.append(\"GETACTION 4 0 3 POST:1:P2 POST:2:P1 CALL:P2 2 CHECK RAISE:4:200 9.931115124999993\")\n",
    "# data.append(\"GETACTION 4 3 4d 5c Js 2 CHECK:P1 DEAL:FLOP 3 CHECK DISCARD:9c DISCARD:4s 9.930735672999992\")\n",
    "# data.append(\"GETACTION 4 3 4d 5c Js 2 CHECK:P1 CHECK:P2 2 CHECK BET:2:198 9.930290227999992\")\n",
    "# data.append(\"GETACTION 4 4 4d 5c Js Jh 3 CHECK:P1 CHECK:P2 DEAL:TURN 3 CHECK DISCARD:9c DISCARD:4s 9.929636328999992\")\n",
    "# data.append(\"GETACTION 4 4 4d 5c Js Jh 2 CHECK:P1 DISCARD:P2 2 CHECK BET:2:198 9.928944276999992\")\n",
    "# data.append(\"GETACTION 83 4 4d 5c Js Jh 2 CHECK:P1 BET:79:P2 3 FOLD CALL RAISE:158:198 9.928641209999991\")\n",
    "# data.append(\"HANDOVER -113 113 4 4d 5c Js Jh 3 FOLD:P1 REFUND:79:P2 WIN:4:P2 9.928236565999992\")\n",
    "\n",
    "\n",
    "# data = []\n",
    "# data.append(\"NEWHAND 80 false Kd Qh -77 77 9.942149\")\n",
    "# data.append(\"GETACTION 4 0 3 POST:1:P2 POST:2:P1 CALL:P2 2 CHECK RAISE:4:200 9.942148733999993\")\n",
    "# data.append(\"GETACTION 4 3 9d 4h Ts 2 CHECK:P1 DEAL:FLOP 3 CHECK DISCARD:Kd DISCARD:Qh 9.941793586999992\")\n",
    "# data.append(\"GETACTION 4 3 9d 4h Ts 2 CHECK:P1 CHECK:P2 2 CHECK BET:2:198 9.941348511999992\")\n",
    "# data.append(\"GETACTION 56 3 9d 4h Ts 2 CHECK:P1 BET:52:P2 3 FOLD CALL RAISE:104:198 9.940922597999993\")\n",
    "# data.append(\"HANDOVER -79 79 3 9d 4h Ts 3 FOLD:P1 REFUND:52:P2 WIN:4:P2 9.940476787999993\")\n",
    "\n",
    "\n",
    "# data = []\n",
    "# data.append(\"NEWHAND 91 true 3c Ah 410 -410 9.904622\")\n",
    "# data.append(\"GETACTION 3 0 2 POST:1:P1 POST:2:P2 3 CALL FOLD RAISE:4:200 9.904621749000007\")\n",
    "# data.append(\"GETACTION 400 3 9d 5h 9s 4 RAISE:200:P1 CALL:P2 DEAL:FLOP CHECK:P2 3 CHECK DISCARD:3c DISCARD:Ah 9.904199743000007\")\n",
    "# data.append(\"GETACTION 400 4 9d 5h 9s Tc 3 CHECK:P1 DEAL:TURN DISCARD:P2 3 CHECK DISCARD:3c DISCARD:Ah 9.902036590000007\")\n",
    "# data.append(\"HANDOVER 210 -210 5 9d 5h 9s Tc 2s 5 CHECK:P1 DEAL:RIVER SHOW:3c:Ah:P1 SHOW:Ad:5d:P2 WIN:400:P2 9.901503757000008\")\n",
    "\n",
    "\n",
    "data = []\n",
    "data.append(\"NEWHAND 34 false 9d 4h 7 -7 9.968365\")\n",
    "data.append(\"GETACTION 4 0 3 POST:1:P2 POST:2:P1 CALL:P2 2 CHECK RAISE:4:200 9.968364926000001\")\n",
    "data.append(\"GETACTION 4 3 5s Kd Qc 2 CHECK:P1 DEAL:FLOP 3 CHECK DISCARD:9d DISCARD:4h 9.968108437000001\")\n",
    "data.append(\"GETACTION 4 3 5s Kd Qc 2 CHECK:P1 DISCARD:P2 2 CHECK BET:2:198 9.967825413000002\")\n",
    "data.append(\"GETACTION 4 4 5s Kd Qc Ah 3 CHECK:P1 CHECK:P2 DEAL:TURN 3 CHECK DISCARD:9d DISCARD:4h 9.967515728000002\")\n",
    "data.append(\"GETACTION 4 4 5s Kd Qc Ah 2 CHECK:P1 DISCARD:P2 2 CHECK BET:2:198 9.967211695000001\")\n",
    "data.append(\"GETACTION 4 5 5s Kd Qc Ah Tc 3 CHECK:P1 CHECK:P2 DEAL:RIVER 2 CHECK BET:2:198 9.966950326000001\")\n",
    "data.append(\"HANDOVER 5 -5 5 5s Kd Qc Ah Tc 5 CHECK:P1 CHECK:P2 SHOW:Qh:9c:P2 SHOW:9d:4h:P1 WIN:4:P2 9.966612284000002\")\n",
    "                                        \n",
    "\n",
    "#data = \"GETACTION 4 3 5d Kd 6h 2 CHECK:P1 DEAL:FLOP 3 CHECK DISCARD:Jc DISCARD:9s 9.995735496999998\""
   ]
  },
  {
   "cell_type": "code",
   "execution_count": 38,
   "metadata": {
    "collapsed": false
   },
   "outputs": [],
   "source": [
    "jp = Johnny(\"P1\")"
   ]
  },
  {
   "cell_type": "code",
   "execution_count": 144,
   "metadata": {
    "collapsed": false
   },
   "outputs": [
    {
     "name": "stdout",
     "output_type": "stream",
     "text": [
      "NEWHAND 34 false 9d 4h 7 -7 9.968365\n",
      "[]\n",
      "GETACTION 4 0 3 POST:1:P2 POST:2:P1 CALL:P2 2 CHECK RAISE:4:200 9.968364926000001\n",
      "[[ 0.     0.01   0.   ]\n",
      " [ 0.005  0.     0.01 ]\n",
      " [ 0.     0.     0.   ]\n",
      " [ 0.     0.     0.   ]\n",
      " [ 0.     0.     0.   ]]\n",
      "GETACTION 4 3 5s Kd Qc 2 CHECK:P1 DEAL:FLOP 3 CHECK DISCARD:9d DISCARD:4h 9.968108437000001\n",
      "[[ 0.     0.01   0.     0.     0.   ]\n",
      " [ 0.005  0.     0.01   0.     0.   ]\n",
      " [ 0.     0.     0.     0.     1.   ]\n",
      " [ 0.     0.     0.     0.     0.   ]\n",
      " [ 0.     0.     0.     0.     0.   ]]\n",
      "GETACTION 4 3 5s Kd Qc 2 CHECK:P1 DISCARD:P2 2 CHECK BET:2:198 9.967825413000002\n",
      "[[ 0.     0.01   0.     0.     0.     0.     0.   ]\n",
      " [ 0.005  0.     0.01   0.     0.     0.     0.   ]\n",
      " [ 0.     0.     0.     0.     1.     1.     1.   ]\n",
      " [ 0.     0.     0.     0.     0.     0.     0.   ]\n",
      " [ 0.     0.     0.     0.     0.     0.     1.   ]]\n",
      "GETACTION 4 4 5s Kd Qc Ah 3 CHECK:P1 CHECK:P2 DEAL:TURN 3 CHECK DISCARD:9d DISCARD:4h 9.967515728000002\n",
      "[[ 0.     0.01   0.     0.     0.     0.     0.     0.     0.     0.   ]\n",
      " [ 0.005  0.     0.01   0.     0.     0.     0.     0.     0.     0.   ]\n",
      " [ 0.     0.     0.     0.     1.     1.     1.     1.     1.     2.   ]\n",
      " [ 0.     0.     0.     0.     0.     0.     0.     0.     0.     0.   ]\n",
      " [ 0.     0.     0.     0.     0.     0.     1.     0.     0.     0.   ]]\n",
      "GETACTION 4 4 5s Kd Qc Ah 2 CHECK:P1 DISCARD:P2 2 CHECK BET:2:198 9.967211695000001\n",
      "[[ 0.     0.01   0.     0.     0.     0.     0.     0.     0.     0.     0.     0.   ]\n",
      " [ 0.005  0.     0.01   0.     0.     0.     0.     0.     0.     0.     0.     0.   ]\n",
      " [ 0.     0.     0.     0.     1.     1.     1.     1.     1.     2.     2.     2.   ]\n",
      " [ 0.     0.     0.     0.     0.     0.     0.     0.     0.     0.     0.     0.   ]\n",
      " [ 0.     0.     0.     0.     0.     0.     1.     0.     0.     0.     0.     1.   ]]\n",
      "GETACTION 4 5 5s Kd Qc Ah Tc 3 CHECK:P1 CHECK:P2 DEAL:RIVER 2 CHECK BET:2:198 9.966950326000001\n",
      "[[ 0.     0.01   0.     0.     0.     0.     0.     0.     0.     0.     0.     0.     0.     0.     0.   ]\n",
      " [ 0.005  0.     0.01   0.     0.     0.     0.     0.     0.     0.     0.     0.     0.     0.     0.   ]\n",
      " [ 0.     0.     0.     0.     1.     1.     1.     1.     1.     2.     2.     2.     2.     2.     3.   ]\n",
      " [ 0.     0.     0.     0.     0.     0.     0.     0.     0.     0.     0.     0.     0.     0.     0.   ]\n",
      " [ 0.     0.     0.     0.     0.     0.     1.     0.     0.     0.     0.     1.     0.     0.     0.   ]]\n",
      "HANDOVER 5 -5 5 5s Kd Qc Ah Tc 5 CHECK:P1 CHECK:P2 SHOW:Qh:9c:P2 SHOW:9d:4h:P1 WIN:4:P2 9.966612284000002\n",
      "[[ 0.     0.01   0.     0.     0.     0.     0.     0.     0.     0.     0.     0.     0.     0.     0.     0.     0.     0.     0.   ]\n",
      " [ 0.005  0.     0.01   0.     0.     0.     0.     0.     0.     0.     0.     0.     0.     0.     0.     0.     0.     0.     0.   ]\n",
      " [ 0.     0.     0.     0.     1.     1.     1.     1.     1.     2.     2.     2.     2.     2.     3.     3.     3.     0.     0.   ]\n",
      " [ 0.     0.     0.     0.     0.     0.     0.     0.     0.     0.     0.     0.     0.     0.     0.     0.     0.     0.     0.   ]\n",
      " [ 0.     0.     0.     0.     0.     0.     1.     0.     0.     0.     0.     1.     0.     0.     0.     0.     0.     0.     0.   ]]\n",
      "0:00:00.024565\n"
     ]
    }
   ],
   "source": [
    "startTime = datetime.now()\n",
    "for i in range(len(data)):\n",
    "    print(data[i])\n",
    "    jp.parse_data(data[i])\n",
    "    jp.update_temporal_feature_matrix()\n",
    "    print(jp.temporal_feature_matrix)\n",
    "    \n",
    "print datetime.now() - startTime"
   ]
  },
  {
   "cell_type": "code",
   "execution_count": 57,
   "metadata": {
    "collapsed": false
   },
   "outputs": [
    {
     "name": "stdout",
     "output_type": "stream",
     "text": [
      "0.71\n"
     ]
    }
   ],
   "source": [
    "board = ['Th', 'Js', 'Qh']\n",
    "hand = ['Kh']\n",
    "nsim = 100\n",
    "\n",
    "print(jp.evaluate_showdown_probabilities(hand, board, nsim))"
   ]
  },
  {
   "cell_type": "code",
   "execution_count": 11,
   "metadata": {
    "collapsed": false
   },
   "outputs": [
    {
     "data": {
      "text/plain": [
       "0.9"
      ]
     },
     "execution_count": 11,
     "metadata": {},
     "output_type": "execute_result"
    }
   ],
   "source": []
  },
  {
   "cell_type": "code",
   "execution_count": 188,
   "metadata": {
    "collapsed": false
   },
   "outputs": [
    {
     "ename": "KeyError",
     "evalue": "9",
     "output_type": "error",
     "traceback": [
      "\u001b[0;31m---------------------------------------------------------------------------\u001b[0m",
      "\u001b[0;31mKeyError\u001b[0m                                  Traceback (most recent call last)",
      "\u001b[0;32m<ipython-input-188-02f55dacca8a>\u001b[0m in \u001b[0;36m<module>\u001b[0;34m()\u001b[0m\n\u001b[0;32m----> 1\u001b[0;31m \u001b[0mcard_evaluator\u001b[0m\u001b[0;34m.\u001b[0m\u001b[0mevaluate\u001b[0m\u001b[0;34m(\u001b[0m\u001b[0mboard_sim\u001b[0m\u001b[0;34m,\u001b[0m\u001b[0mhand_sim\u001b[0m\u001b[0;34m)\u001b[0m\u001b[0;34m\u001b[0m\u001b[0m\n\u001b[0m",
      "\u001b[0;32m/Users/sbiswas/anaconda/lib/python2.7/site-packages/deuces/evaluator.pyc\u001b[0m in \u001b[0;36mevaluate\u001b[0;34m(self, cards, board)\u001b[0m\n\u001b[1;32m     33\u001b[0m         \"\"\"\n\u001b[1;32m     34\u001b[0m         \u001b[0mall_cards\u001b[0m \u001b[0;34m=\u001b[0m \u001b[0mcards\u001b[0m \u001b[0;34m+\u001b[0m \u001b[0mboard\u001b[0m\u001b[0;34m\u001b[0m\u001b[0m\n\u001b[0;32m---> 35\u001b[0;31m         \u001b[0;32mreturn\u001b[0m \u001b[0mself\u001b[0m\u001b[0;34m.\u001b[0m\u001b[0mhand_size_map\u001b[0m\u001b[0;34m[\u001b[0m\u001b[0mlen\u001b[0m\u001b[0;34m(\u001b[0m\u001b[0mall_cards\u001b[0m\u001b[0;34m)\u001b[0m\u001b[0;34m]\u001b[0m\u001b[0;34m(\u001b[0m\u001b[0mall_cards\u001b[0m\u001b[0;34m)\u001b[0m\u001b[0;34m\u001b[0m\u001b[0m\n\u001b[0m\u001b[1;32m     36\u001b[0m \u001b[0;34m\u001b[0m\u001b[0m\n\u001b[1;32m     37\u001b[0m     \u001b[0;32mdef\u001b[0m \u001b[0m_five\u001b[0m\u001b[0;34m(\u001b[0m\u001b[0mself\u001b[0m\u001b[0;34m,\u001b[0m \u001b[0mcards\u001b[0m\u001b[0;34m)\u001b[0m\u001b[0;34m:\u001b[0m\u001b[0;34m\u001b[0m\u001b[0m\n",
      "\u001b[0;31mKeyError\u001b[0m: 9"
     ]
    }
   ],
   "source": [
    "card_evaluator.evaluate(board_sim,hand_sim)"
   ]
  },
  {
   "cell_type": "code",
   "execution_count": 11,
   "metadata": {
    "collapsed": true
   },
   "outputs": [],
   "source": [
    "al = [item for sublist in jp.hand['action_history'] for item in sublist]"
   ]
  },
  {
   "cell_type": "code",
   "execution_count": 12,
   "metadata": {
    "collapsed": false
   },
   "outputs": [
    {
     "data": {
      "text/plain": [
       "['POST:1:P2',\n",
       " 'POST:2:P1',\n",
       " 'CALL:P2',\n",
       " 'CHECK:P1',\n",
       " 'DEAL:FLOP',\n",
       " 'CHECK:P1',\n",
       " 'CHECK:P2',\n",
       " 'CHECK:P1',\n",
       " 'BET:52:P2',\n",
       " 'FOLD:P1',\n",
       " 'REFUND:52:P2']"
      ]
     },
     "execution_count": 12,
     "metadata": {},
     "output_type": "execute_result"
    }
   ],
   "source": [
    "al"
   ]
  },
  {
   "cell_type": "code",
   "execution_count": 22,
   "metadata": {
    "collapsed": false
   },
   "outputs": [
    {
     "ename": "ValueError",
     "evalue": "all the input arrays must have same number of dimensions",
     "output_type": "error",
     "traceback": [
      "\u001b[0;31m---------------------------------------------------------------------------\u001b[0m",
      "\u001b[0;31mValueError\u001b[0m                                Traceback (most recent call last)",
      "\u001b[0;32m<ipython-input-22-d74b31e084c7>\u001b[0m in \u001b[0;36m<module>\u001b[0;34m()\u001b[0m\n\u001b[0;32m----> 1\u001b[0;31m \u001b[0mnp\u001b[0m\u001b[0;34m.\u001b[0m\u001b[0mhstack\u001b[0m\u001b[0;34m(\u001b[0m\u001b[0;34m(\u001b[0m\u001b[0mnp\u001b[0m\u001b[0;34m.\u001b[0m\u001b[0mzeros\u001b[0m\u001b[0;34m(\u001b[0m\u001b[0;34m(\u001b[0m\u001b[0;36m3\u001b[0m\u001b[0;34m,\u001b[0m\u001b[0;34m)\u001b[0m\u001b[0;34m)\u001b[0m\u001b[0;34m,\u001b[0m \u001b[0mnp\u001b[0m\u001b[0;34m.\u001b[0m\u001b[0mzeros\u001b[0m\u001b[0;34m(\u001b[0m\u001b[0;34m(\u001b[0m\u001b[0;36m3\u001b[0m\u001b[0;34m,\u001b[0m\u001b[0;36m1\u001b[0m\u001b[0;34m)\u001b[0m\u001b[0;34m)\u001b[0m\u001b[0;34m)\u001b[0m\u001b[0;34m)\u001b[0m\u001b[0;34m\u001b[0m\u001b[0m\n\u001b[0m",
      "\u001b[0;32m/Users/sbiswas/anaconda/lib/python2.7/site-packages/numpy/core/shape_base.pyc\u001b[0m in \u001b[0;36mhstack\u001b[0;34m(tup)\u001b[0m\n\u001b[1;32m    276\u001b[0m     \u001b[0;31m# As a special case, dimension 0 of 1-dimensional arrays is \"horizontal\"\u001b[0m\u001b[0;34m\u001b[0m\u001b[0;34m\u001b[0m\u001b[0m\n\u001b[1;32m    277\u001b[0m     \u001b[0;32mif\u001b[0m \u001b[0marrs\u001b[0m\u001b[0;34m[\u001b[0m\u001b[0;36m0\u001b[0m\u001b[0;34m]\u001b[0m\u001b[0;34m.\u001b[0m\u001b[0mndim\u001b[0m \u001b[0;34m==\u001b[0m \u001b[0;36m1\u001b[0m\u001b[0;34m:\u001b[0m\u001b[0;34m\u001b[0m\u001b[0m\n\u001b[0;32m--> 278\u001b[0;31m         \u001b[0;32mreturn\u001b[0m \u001b[0m_nx\u001b[0m\u001b[0;34m.\u001b[0m\u001b[0mconcatenate\u001b[0m\u001b[0;34m(\u001b[0m\u001b[0marrs\u001b[0m\u001b[0;34m,\u001b[0m \u001b[0;36m0\u001b[0m\u001b[0;34m)\u001b[0m\u001b[0;34m\u001b[0m\u001b[0m\n\u001b[0m\u001b[1;32m    279\u001b[0m     \u001b[0;32melse\u001b[0m\u001b[0;34m:\u001b[0m\u001b[0;34m\u001b[0m\u001b[0m\n\u001b[1;32m    280\u001b[0m         \u001b[0;32mreturn\u001b[0m \u001b[0m_nx\u001b[0m\u001b[0;34m.\u001b[0m\u001b[0mconcatenate\u001b[0m\u001b[0;34m(\u001b[0m\u001b[0marrs\u001b[0m\u001b[0;34m,\u001b[0m \u001b[0;36m1\u001b[0m\u001b[0;34m)\u001b[0m\u001b[0;34m\u001b[0m\u001b[0m\n",
      "\u001b[0;31mValueError\u001b[0m: all the input arrays must have same number of dimensions"
     ]
    }
   ],
   "source": [
    "np.hstack((np.zeros((3,)), np.zeros((3,1))))"
   ]
  },
  {
   "cell_type": "code",
   "execution_count": 145,
   "metadata": {
    "collapsed": false
   },
   "outputs": [
    {
     "data": {
      "text/plain": [
       "{'action_history': [['POST:1:P2', 'POST:2:P1', 'CALL:P2'],\n",
       "  ['CHECK:P1', 'DEAL:FLOP'],\n",
       "  ['CHECK:P1', 'DISCARD:P2'],\n",
       "  ['CHECK:P1', 'CHECK:P2', 'DEAL:TURN'],\n",
       "  ['CHECK:P1', 'DISCARD:P2'],\n",
       "  ['CHECK:P1', 'CHECK:P2', 'DEAL:RIVER'],\n",
       "  ['CHECK:P1', 'CHECK:P2', 'SHOW:Qh:9c:P2', 'SHOW:9d:4h:P1']],\n",
       " 'board': ['5s', 'Kd', 'Qc', 'Ah', 'Tc'],\n",
       " 'button': 'false',\n",
       " 'hand_id': 34,\n",
       " 'hole1': '9d',\n",
       " 'hole2': '4h',\n",
       " 'pot_size': [4, 4, 4, 4, 4, 4],\n",
       " 'result': -4}"
      ]
     },
     "execution_count": 145,
     "metadata": {},
     "output_type": "execute_result"
    }
   ],
   "source": [
    "card_evaluator.evaluate(board_sim,villain_hand)"
   ]
  },
  {
   "cell_type": "code",
   "execution_count": 84,
   "metadata": {
    "collapsed": false
   },
   "outputs": [
    {
     "name": "stdout",
     "output_type": "stream",
     "text": [
      "1\n"
     ]
    }
   ],
   "source": [
    "street = 1 if \"FLOP\" == \"FLOP\" else 0\n",
    "print street"
   ]
  },
  {
   "cell_type": "code",
   "execution_count": 156,
   "metadata": {
    "collapsed": false
   },
   "outputs": [
    {
     "name": "stdout",
     "output_type": "stream",
     "text": [
      "['A', 'B', 'C', 'D', 'E', 'F']\n",
      "['A', 'B', 'C', 'D', 'E']\n"
     ]
    }
   ],
   "source": [
    "yo = ['A','B', \"C\", 'D', 'E']\n",
    "\n",
    "bo = cp.copy(yo)\n",
    "bo.extend(\"F\")\n",
    "print(bo)\n",
    "print(yo)"
   ]
  },
  {
   "cell_type": "code",
   "execution_count": 157,
   "metadata": {
    "collapsed": false
   },
   "outputs": [
    {
     "name": "stdout",
     "output_type": "stream",
     "text": [
      "['A', 'B']\n"
     ]
    }
   ],
   "source": [
    "print(bo[0:2])"
   ]
  },
  {
   "cell_type": "code",
   "execution_count": 158,
   "metadata": {
    "collapsed": false
   },
   "outputs": [
    {
     "name": "stdout",
     "output_type": "stream",
     "text": [
      "['C', 'D', 'E']\n"
     ]
    }
   ],
   "source": [
    "print(bo[2:2+3])"
   ]
  },
  {
   "cell_type": "code",
   "execution_count": 160,
   "metadata": {
    "collapsed": false
   },
   "outputs": [
    {
     "name": "stdout",
     "output_type": "stream",
     "text": [
      "['F']\n"
     ]
    }
   ],
   "source": [
    "print(bo[(2+3):])"
   ]
  },
  {
   "cell_type": "code",
   "execution_count": 165,
   "metadata": {
    "collapsed": false
   },
   "outputs": [
    {
     "name": "stdout",
     "output_type": "stream",
     "text": [
      "1.0\n"
     ]
    }
   ],
   "source": [
    "v = 0.0\n",
    "v += False\n",
    "v += True\n",
    "print(v)"
   ]
  },
  {
   "cell_type": "code",
   "execution_count": 166,
   "metadata": {
    "collapsed": false
   },
   "outputs": [
    {
     "data": {
      "text/plain": [
       "0.32"
      ]
     },
     "execution_count": 166,
     "metadata": {},
     "output_type": "execute_result"
    }
   ],
   "source": [
    "32.0/100"
   ]
  },
  {
   "cell_type": "code",
   "execution_count": null,
   "metadata": {
    "collapsed": true
   },
   "outputs": [],
   "source": []
  }
 ],
 "metadata": {
  "kernelspec": {
   "display_name": "Python 2",
   "language": "python",
   "name": "python2"
  },
  "language_info": {
   "codemirror_mode": {
    "name": "ipython",
    "version": 2
   },
   "file_extension": ".py",
   "mimetype": "text/x-python",
   "name": "python",
   "nbconvert_exporter": "python",
   "pygments_lexer": "ipython2",
   "version": "2.7.13"
  }
 },
 "nbformat": 4,
 "nbformat_minor": 0
}
